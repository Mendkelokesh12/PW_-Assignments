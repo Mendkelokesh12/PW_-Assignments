{
 "cells": [
  {
   "cell_type": "markdown",
   "id": "9a6f6943-d006-46eb-aba6-7be402aa8ac1",
   "metadata": {},
   "source": [
    "Q1. What is an Exception in python? Write the difference between Exceptions and Syntax errors."
   ]
  },
  {
   "cell_type": "code",
   "execution_count": 1,
   "id": "dbaf9b30-7fa0-47cb-aee6-dc795a7cd223",
   "metadata": {},
   "outputs": [
    {
     "name": "stdout",
     "output_type": "stream",
     "text": [
      " In Python, an exception is an event that occurs during the execution of a program,\n",
      "disrupting the normal flow of instructions. When an exceptional situation arises, \n",
      "Python raises an exception, which can be caught and handled by the appropriate code.\n",
      "Exceptions can occur for various reasons, such as attempting to divide by zero,\n",
      "accessing an index that is out of bounds in a list, or trying to open a file that doesn't exist. \n",
      "\n",
      "Example \n",
      "\n",
      "Error: division by zero\n",
      "\n",
      " Syntax errors, on the other hand, are a different type of error.\n",
      "      They occur when the Python interpreter encounters code that violates the language's syntax rules.\n",
      "      These errors prevent the code from being successfully parsed and executed. \n",
      "      Examples of syntax errors include missing parentheses, incorrect indentation, or using an undefined variable.\n"
     ]
    }
   ],
   "source": [
    "\n",
    "print(''' In Python, an exception is an event that occurs during the execution of a program,\n",
    "disrupting the normal flow of instructions. When an exceptional situation arises, \n",
    "Python raises an exception, which can be caught and handled by the appropriate code.\n",
    "Exceptions can occur for various reasons, such as attempting to divide by zero,\n",
    "accessing an index that is out of bounds in a list, or trying to open a file that doesn't exist. \n",
    "\n",
    "Example \n",
    "''')\n",
    "import logging\n",
    "logging.basicConfig(filename = \"exception.log\", level = logging.ERROR)\n",
    "try:\n",
    "    result =10/0\n",
    "except ZeroDivisionError as e:\n",
    "    logging.error(\"This is zero division error \".format(e))\n",
    "    print(f\"Error: {e}\\n\")\n",
    "print(''' Syntax errors, on the other hand, are a different type of error.\n",
    "      They occur when the Python interpreter encounters code that violates the language's syntax rules.\n",
    "      These errors prevent the code from being successfully parsed and executed. \n",
    "      Examples of syntax errors include missing parentheses, incorrect indentation, or using an undefined variable.''')"
   ]
  },
  {
   "cell_type": "markdown",
   "id": "d1faed35-6bd3-48de-a29f-5eddb296d694",
   "metadata": {},
   "source": [
    "Q2. What happens when an exception is not handled? Explain with an example."
   ]
  },
  {
   "cell_type": "code",
   "execution_count": 2,
   "id": "1eafc194-68f9-49e4-bcfc-61af1c049695",
   "metadata": {},
   "outputs": [
    {
     "name": "stdout",
     "output_type": "stream",
     "text": [
      " When an exception is not handled in Python, \n",
      "the program terminates abruptly, \n",
      "and an error message, known as a traceback, is displayed. \n",
      "The traceback provides information about the exception that occurred, \n",
      "along with the line numbers and files involved in the error. \n",
      "This output can be helpful for debugging but is generally not user-friendly. \n",
      " \n"
     ]
    },
    {
     "ename": "ZeroDivisionError",
     "evalue": "division by zero",
     "output_type": "error",
     "traceback": [
      "\u001b[0;31m---------------------------------------------------------------------------\u001b[0m",
      "\u001b[0;31mZeroDivisionError\u001b[0m                         Traceback (most recent call last)",
      "Cell \u001b[0;32mIn[2], line 11\u001b[0m\n\u001b[1;32m      1\u001b[0m \u001b[38;5;28mprint\u001b[39m(\u001b[38;5;124m'''\u001b[39m\u001b[38;5;124m When an exception is not handled in Python, \u001b[39m\n\u001b[1;32m      2\u001b[0m \u001b[38;5;124mthe program terminates abruptly, \u001b[39m\n\u001b[1;32m      3\u001b[0m \u001b[38;5;124mand an error message, known as a traceback, is displayed. \u001b[39m\n\u001b[0;32m   (...)\u001b[0m\n\u001b[1;32m      6\u001b[0m \u001b[38;5;124mThis output can be helpful for debugging but is generally not user-friendly. \u001b[39m\n\u001b[1;32m      7\u001b[0m \u001b[38;5;124m \u001b[39m\u001b[38;5;124m'''\u001b[39m)\n\u001b[1;32m      9\u001b[0m \u001b[38;5;66;03m# Example: Division by zero without handling the exception\u001b[39;00m\n\u001b[0;32m---> 11\u001b[0m result \u001b[38;5;241m=\u001b[39m \u001b[38;5;241;43m10\u001b[39;49m\u001b[43m \u001b[49m\u001b[38;5;241;43m/\u001b[39;49m\u001b[43m \u001b[49m\u001b[38;5;241;43m0\u001b[39;49m  \u001b[38;5;66;03m# This will raise a ZeroDivisionError\u001b[39;00m\n\u001b[1;32m     12\u001b[0m \u001b[38;5;28mprint\u001b[39m(\u001b[38;5;124m\"\u001b[39m\u001b[38;5;124mThis line will not be executed.\u001b[39m\u001b[38;5;124m\"\u001b[39m)\n\u001b[1;32m     13\u001b[0m \u001b[38;5;28mprint\u001b[39m(result)\n",
      "\u001b[0;31mZeroDivisionError\u001b[0m: division by zero"
     ]
    }
   ],
   "source": [
    "print(''' When an exception is not handled in Python, \n",
    "the program terminates abruptly, \n",
    "and an error message, known as a traceback, is displayed. \n",
    "The traceback provides information about the exception that occurred, \n",
    "along with the line numbers and files involved in the error. \n",
    "This output can be helpful for debugging but is generally not user-friendly. \n",
    " ''')\n",
    "\n",
    "# Example: Division by zero without handling the exception\n",
    "\n",
    "result = 10 / 0  # This will raise a ZeroDivisionError\n",
    "print(\"This line will not be executed.\")\n",
    "print(result)\n",
    "\n",
    "\n",
    "\n",
    "\n"
   ]
  },
  {
   "cell_type": "markdown",
   "id": "f8bf4999-12d2-49ad-a6fc-32deecc4b33e",
   "metadata": {},
   "source": [
    "Q3. Which Python statements are used to catch and handle exceptions? Explain with an example."
   ]
  },
  {
   "cell_type": "code",
   "execution_count": 10,
   "id": "148590bf-1468-415f-9005-52fadb12e08f",
   "metadata": {},
   "outputs": [
    {
     "name": "stdout",
     "output_type": "stream",
     "text": [
      " In Python, the try, except, else, and finally statements are used to catch and handle exceptions. \n",
      "The basic structure is formed by the try block, which contains the code that might raise an exception,\n",
      "and the except block, which specifies how to handle the exception if it occurs. Optionally, \n",
      "you can include an else block, which contains code to be executed if no exceptions are raised, \n",
      "and a finally block, which contains code that will be executed regardless of whether an exception occurred.\n",
      "\n"
     ]
    },
    {
     "name": "stdin",
     "output_type": "stream",
     "text": [
      "Enter a numerator:  10\n",
      "Enter a denominator:  2\n"
     ]
    },
    {
     "name": "stdout",
     "output_type": "stream",
     "text": [
      "The result of the division is: 5.0\n",
      "This code is always executed, even if an exception occurred.\n"
     ]
    }
   ],
   "source": [
    "print(''' In Python, the try, except, else, and finally statements are used to catch and handle exceptions. \n",
    "The basic structure is formed by the try block, which contains the code that might raise an exception,\n",
    "and the except block, which specifies how to handle the exception if it occurs. Optionally, \n",
    "you can include an else block, which contains code to be executed if no exceptions are raised, \n",
    "and a finally block, which contains code that will be executed regardless of whether an exception occurred.\n",
    "''')\n",
    "\n",
    "try:\n",
    "    # Code that might raise an exception\n",
    "    num1 = int(input(\"Enter a numerator: \"))\n",
    "    num2 = int(input(\"Enter a denominator: \"))\n",
    "    result = num1 / num2\n",
    "\n",
    "except ValueError:\n",
    "    # Handle the case where the input cannot be converted to an integer\n",
    "    logging.error(\"This is Value  error \")\n",
    "    print(\"Please enter valid integers.\")\n",
    "\n",
    "except ZeroDivisionError:\n",
    "    # Handle the case where division by zero occurs\n",
    "    logging.error(\"This is zero division error \")\n",
    "    print(\"Cannot divide by zero.\")\n",
    "\n",
    "else:\n",
    "    # Code to be executed if no exceptions are raised\n",
    "    print(f\"The result of the division is: {result}\")\n",
    "\n",
    "finally:\n",
    "    # Code to be executed regardless of whether an exception occurred\n",
    "    print(\"This code is always executed, even if an exception occurred.\")\n"
   ]
  },
  {
   "cell_type": "markdown",
   "id": "74fa3bf7-5c6a-46d3-a5f7-307564208cd8",
   "metadata": {},
   "source": [
    "Q4 Explain with an example:\n",
    "a. try and else\n",
    "b. finally\n",
    "c. raise"
   ]
  },
  {
   "cell_type": "code",
   "execution_count": 11,
   "id": "c34749ca-3fe7-42de-807e-c4fd526b2bc5",
   "metadata": {},
   "outputs": [
    {
     "name": "stdout",
     "output_type": "stream",
     "text": [
      " the try block contains code that might raise exceptions \n",
      "(converting user input to integers and performing division). \n",
      "If a ValueError or ZeroDivisionError occurs, the respective except block is executed, \n",
      "handling the exception. If no exception occurs, the else block is executed, printing the result of the division.\n"
     ]
    },
    {
     "name": "stdin",
     "output_type": "stream",
     "text": [
      "Enter a numerator:  10\n",
      "Enter a denominator:  2\n"
     ]
    },
    {
     "name": "stdout",
     "output_type": "stream",
     "text": [
      "The result of the division is: 5.0\n"
     ]
    }
   ],
   "source": [
    "print(''' the try block contains code that might raise exceptions \n",
    "(converting user input to integers and performing division). \n",
    "If a ValueError or ZeroDivisionError occurs, the respective except block is executed, \n",
    "handling the exception. If no exception occurs, the else block is executed, printing the result of the division.''')\n",
    "\n",
    "try:\n",
    "    num1 = int(input(\"Enter a numerator: \"))\n",
    "    num2 = int(input(\"Enter a denominator: \"))\n",
    "    result = num1 / num2\n",
    "\n",
    "except ValueError as e:\n",
    "    logging.error(\"This is Value  error \".format(e))\n",
    "    print(\"Please enter valid integers \",e)\n",
    "\n",
    "except ZeroDivisionError as e:\n",
    "    logging.error(\"This is zero division error \".format(e))\n",
    "    print(\"Cannot divide by zero.\", e)\n",
    "\n",
    "else:\n",
    "    print(f\"The result of the division is: {result}\")\n"
   ]
  },
  {
   "cell_type": "code",
   "execution_count": 12,
   "id": "f1379c10-b097-45ed-b33a-7fbca28ac981",
   "metadata": {},
   "outputs": [
    {
     "name": "stdout",
     "output_type": "stream",
     "text": [
      "  the finally block contains code that will be executed regardless of whether an exception occurred.\n",
      "This block is commonly used for cleanup operations, ensuring certain code is executed even if an exception is raised \n"
     ]
    },
    {
     "name": "stdin",
     "output_type": "stream",
     "text": [
      "Enter a numerator:  10\n",
      "Enter a denominator:  0\n"
     ]
    },
    {
     "name": "stdout",
     "output_type": "stream",
     "text": [
      "Cannot divide by zero.\n",
      "This code is always executed, even if an exception occurred.\n"
     ]
    }
   ],
   "source": [
    "print('''  the finally block contains code that will be executed regardless of whether an exception occurred.\n",
    "This block is commonly used for cleanup operations, ensuring certain code is executed even if an exception is raised ''')\n",
    "\n",
    "try:\n",
    "    num1 = int(input(\"Enter a numerator: \"))\n",
    "    num2 = int(input(\"Enter a denominator: \"))\n",
    "    result = num1 / num2\n",
    "\n",
    "except ValueError as e:\n",
    "    logging.error(\"This is Value  error \".format(e))\n",
    "    print(\"Please enter valid integers.\")\n",
    "\n",
    "except ZeroDivisionError as e:\n",
    "    logging.error(\"This is zero division error \".format(e))\n",
    "    print(\"Cannot divide by zero.\")\n",
    "\n",
    "else:\n",
    "    print(f\"The result of the division is: {result}\")\n",
    "\n",
    "finally:\n",
    "    print(\"This code is always executed, even if an exception occurred.\")\n"
   ]
  },
  {
   "cell_type": "code",
   "execution_count": 13,
   "id": "35d33177-c45a-4582-bce4-3e731eef861b",
   "metadata": {},
   "outputs": [
    {
     "name": "stdout",
     "output_type": "stream",
     "text": [
      " the raise statement is used to explicitly raise a ValueError if the input is not a positive number. \n",
      "The try block attempts to get user input, calls the check_positive_number function, and prints the entered positive number.\n",
      "If the input is not a positive number, the except block catches the ValueError and prints an error message. \n"
     ]
    },
    {
     "name": "stdin",
     "output_type": "stream",
     "text": [
      "Enter a positive number:  -45\n"
     ]
    },
    {
     "name": "stdout",
     "output_type": "stream",
     "text": [
      "Error: Input must be a positive number.\n"
     ]
    }
   ],
   "source": [
    "print(''' the raise statement is used to explicitly raise a ValueError if the input is not a positive number. \n",
    "The try block attempts to get user input, calls the check_positive_number function, and prints the entered positive number.\n",
    "If the input is not a positive number, the except block catches the ValueError and prints an error message. ''')\n",
    "\n",
    "def check_positive_number(value):\n",
    "    if value <= 0:\n",
    "        raise ValueError(\"Input must be a positive number.\")\n",
    "\n",
    "try:\n",
    "    num = int(input(\"Enter a positive number: \"))\n",
    "    check_positive_number(num)\n",
    "    print(f\"The entered positive number is: {num}\")\n",
    "\n",
    "except ValueError as e:\n",
    "    logging.error(\"This is Value  error \".format(e))\n",
    "    print(f\"Error: {e}\")\n"
   ]
  },
  {
   "cell_type": "markdown",
   "id": "97726326-41cd-4da8-9d64-158da16bac1c",
   "metadata": {},
   "source": [
    "Q5 What are Custom Exceptions in python? Why do we need Custom Exceptions? Explain with an example."
   ]
  },
  {
   "cell_type": "code",
   "execution_count": 14,
   "id": "995bc42a-2b19-492a-b975-a065a53c9a44",
   "metadata": {},
   "outputs": [
    {
     "name": "stdout",
     "output_type": "stream",
     "text": [
      " In Python, custom exceptions are user-defined exceptions that extend the base Exception class or one of its subclasses. \n",
      "Creating custom exceptions allows developers to define specific error conditions for their applications and\n",
      "handle them in a way that makes sense for the problem domain. This can enhance code readability, maintainability, and \n",
      "provide a more structured approach to error handling.\n"
     ]
    },
    {
     "name": "stdin",
     "output_type": "stream",
     "text": [
      "Enter a number:  12\n"
     ]
    },
    {
     "name": "stdout",
     "output_type": "stream",
     "text": [
      "Processing positive number: 12\n"
     ]
    }
   ],
   "source": [
    "print(''' In Python, custom exceptions are user-defined exceptions that extend the base Exception class or one of its subclasses. \n",
    "Creating custom exceptions allows developers to define specific error conditions for their applications and\n",
    "handle them in a way that makes sense for the problem domain. This can enhance code readability, maintainability, and \n",
    "provide a more structured approach to error handling.''')\n",
    "\n",
    "\n",
    "class NegativeValueError(Exception):\n",
    "    \"\"\"Custom exception for handling negative values.\"\"\"\n",
    "\n",
    "    def __init__(self, value):\n",
    "        self.value = value\n",
    "        super().__init__(f\"Negative values are not allowed: {value}\")\n",
    "\n",
    "def process_positive_number(num):\n",
    "    if num < 0:\n",
    "        raise NegativeValueError(num)\n",
    "    # Process the positive number further\n",
    "    print(f\"Processing positive number: {num}\")\n",
    "\n",
    "try:\n",
    "    user_input = int(input(\"Enter a number: \"))\n",
    "    process_positive_number(user_input)\n",
    "\n",
    "except NegativeValueError as e:\n",
    "    print(f\"Error: {e}\")\n",
    "\n",
    "except ValueError:\n",
    "    print(\"Please enter a valid number.\")\n"
   ]
  },
  {
   "cell_type": "markdown",
   "id": "b1111b18-7895-4009-89d0-90445f3daf29",
   "metadata": {},
   "source": [
    "Q6  Create a custom exception class. Use this class to handle an exception."
   ]
  },
  {
   "cell_type": "code",
   "execution_count": 15,
   "id": "14cbf586-2cc4-4e70-98b4-d7eeac44d32d",
   "metadata": {},
   "outputs": [
    {
     "name": "stdin",
     "output_type": "stream",
     "text": [
      "Enter an integer:  25\n"
     ]
    },
    {
     "name": "stdout",
     "output_type": "stream",
     "text": [
      "Error: Invalid input: 25\n"
     ]
    }
   ],
   "source": [
    "class CustomInputError(Exception):\n",
    "    \"\"\"Custom exception for handling invalid input.\"\"\"\n",
    "\n",
    "    def __init__(self, input_value):\n",
    "        self.input_value = input_value\n",
    "        super().__init__(f\"Invalid input: {input_value}\")\n",
    "\n",
    "def process_input(input_value):\n",
    "    if not isinstance(input_value, int):\n",
    "        raise CustomInputError(input_value)\n",
    "    # Process the input further\n",
    "    print(f\"Processing input: {input_value}\")\n",
    "\n",
    "try:\n",
    "    user_input = input(\"Enter an integer: \")\n",
    "    process_input(user_input)\n",
    "\n",
    "except CustomInputError as e:\n",
    "    logging.error(\"This is custom Inpute error \".format(e))\n",
    "    print(f\"Error: {e}\")\n",
    "\n",
    "except KeyboardInterrupt as e:\n",
    "    logging.error(\"This is keyboard Interrupt error \".format(e))\n",
    "    print(\"\\nOperation aborted by the user.\")\n",
    "\n",
    "except Exception as e:\n",
    "    print(f\"An unexpected error occurred: {e}\")\n"
   ]
  },
  {
   "cell_type": "code",
   "execution_count": null,
   "id": "b331d6d8-fabe-4463-a07e-936ab2c965f7",
   "metadata": {},
   "outputs": [],
   "source": []
  }
 ],
 "metadata": {
  "kernelspec": {
   "display_name": "Python 3 (ipykernel)",
   "language": "python",
   "name": "python3"
  },
  "language_info": {
   "codemirror_mode": {
    "name": "ipython",
    "version": 3
   },
   "file_extension": ".py",
   "mimetype": "text/x-python",
   "name": "python",
   "nbconvert_exporter": "python",
   "pygments_lexer": "ipython3",
   "version": "3.10.8"
  }
 },
 "nbformat": 4,
 "nbformat_minor": 5
}
