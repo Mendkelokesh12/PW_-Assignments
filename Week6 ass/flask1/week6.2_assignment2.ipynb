{
 "cells": [
  {
   "cell_type": "markdown",
   "id": "8e3210f7",
   "metadata": {},
   "source": [
    "Q1. What is Flask Framework? What are the advantages of Flask Framework?"
   ]
  },
  {
   "cell_type": "code",
   "execution_count": 1,
   "id": "309a81a1",
   "metadata": {},
   "outputs": [
    {
     "name": "stdout",
     "output_type": "stream",
     "text": [
      "\n",
      "Flask is a popular micro web framework for Python, known for its simplicity, flexibility, and fine-grained control.\n",
      "It was developed by Armin Ronacher and is based on the Werkzeug WSGI toolkit and Jinja2 template engine. \n",
      "A \"micro\" framework typically means that it's minimalistic and simple at its core, offering the basic \n",
      "tools to get a web application running but leaving the rest up to the developer. This approach makes Flask\n",
      "incredibly versatile and easy to extend with various extensions and plugins. Advantages of Flask Framework\n",
      "\n",
      "    Simplicity and Ease of Use: \n",
      "    Flask is known for its simplicity and a straightforward approach to web development. \n",
      "    It has a minimalistic and easy-to-understand syntax which makes it a great choice for beginners.\n",
      "\n",
      "    Flexibility:\n",
      "    Flask does not impose any dependencies or project layout. This flexibility allows developers to use\n",
      "    the tools and libraries they prefer and to structure their application the way they see fit.\n",
      "\n",
      "    Lightweight: \n",
      "    Being a microframework, Flask is lightweight and has a low overhead compared to more full-featured frameworks.\n",
      "    This makes it suitable for small to medium-sized web applications and services.\n",
      "\n",
      "    Extensible:\n",
      "    Flask can be extended with various extensions that add functionalities like ORM (Object-Relational Mapping), \n",
      "    form validation, upload handling, various open authentication technologies, and more.\n",
      "\n",
      "    Integrated Development Server and Debugger:\n",
      "    Flask includes a built-in development server and a lightweight debugger which can be very handy during the development phase.\n",
      "\n",
      "    RESTful Request Dispatching:\n",
      "    Flask supports RESTful request dispatching which is useful in building RESTful APIs.\n",
      "\n",
      "    Unicode Based:\n",
      "    Flask is unicode based, supporting unicode out-of-the-box, which is essential for modern web applications.\n",
      "\n",
      "    Widely Adopted and Well-Supported: \n",
      "    Flask has a large and active community, which means a wealth of tutorials, resources, and third-party \n",
      "    libraries are readily available. This also ensures quick help and support through community forums.\n",
      "\n",
      "    Testing Support: \n",
      "    Flask allows for the easy setup of unit tests for your application, which is crucial for maintaining code \n",
      "    quality and reliability.\n",
      "\n",
      "    Template Engine: \n",
      "    Flask’s template engine, Jinja2, is very powerful and allows for the creation of dynamic web pages using \n",
      "    familiar Python-like syntax.\n",
      "    \n"
     ]
    }
   ],
   "source": [
    "print('''\n",
    "Flask is a popular micro web framework for Python, known for its simplicity, flexibility, and fine-grained control.\n",
    "It was developed by Armin Ronacher and is based on the Werkzeug WSGI toolkit and Jinja2 template engine. \n",
    "A \"micro\" framework typically means that it's minimalistic and simple at its core, offering the basic \n",
    "tools to get a web application running but leaving the rest up to the developer. This approach makes Flask\n",
    "incredibly versatile and easy to extend with various extensions and plugins. Advantages of Flask Framework\n",
    "\n",
    "    Simplicity and Ease of Use: \n",
    "    Flask is known for its simplicity and a straightforward approach to web development. \n",
    "    It has a minimalistic and easy-to-understand syntax which makes it a great choice for beginners.\n",
    "\n",
    "    Flexibility:\n",
    "    Flask does not impose any dependencies or project layout. This flexibility allows developers to use\n",
    "    the tools and libraries they prefer and to structure their application the way they see fit.\n",
    "\n",
    "    Lightweight: \n",
    "    Being a microframework, Flask is lightweight and has a low overhead compared to more full-featured frameworks.\n",
    "    This makes it suitable for small to medium-sized web applications and services.\n",
    "\n",
    "    Extensible:\n",
    "    Flask can be extended with various extensions that add functionalities like ORM (Object-Relational Mapping), \n",
    "    form validation, upload handling, various open authentication technologies, and more.\n",
    "\n",
    "    Integrated Development Server and Debugger:\n",
    "    Flask includes a built-in development server and a lightweight debugger which can be very handy during the development phase.\n",
    "\n",
    "    RESTful Request Dispatching:\n",
    "    Flask supports RESTful request dispatching which is useful in building RESTful APIs.\n",
    "\n",
    "    Unicode Based:\n",
    "    Flask is unicode based, supporting unicode out-of-the-box, which is essential for modern web applications.\n",
    "\n",
    "    Widely Adopted and Well-Supported: \n",
    "    Flask has a large and active community, which means a wealth of tutorials, resources, and third-party \n",
    "    libraries are readily available. This also ensures quick help and support through community forums.\n",
    "\n",
    "    Testing Support: \n",
    "    Flask allows for the easy setup of unit tests for your application, which is crucial for maintaining code \n",
    "    quality and reliability.\n",
    "\n",
    "    Template Engine: \n",
    "    Flask’s template engine, Jinja2, is very powerful and allows for the creation of dynamic web pages using \n",
    "    familiar Python-like syntax.\n",
    "    ''')"
   ]
  },
  {
   "cell_type": "markdown",
   "id": "2c8ede55",
   "metadata": {},
   "source": [
    "Q2.Create a simple Flask application to display ‘Hello World!!’."
   ]
  },
  {
   "cell_type": "code",
   "execution_count": 2,
   "id": "4c022866",
   "metadata": {},
   "outputs": [],
   "source": [
    "from flask import Flask\n",
    "from flask import request\n",
    "app1 = Flask(__name__)\n",
    "\n",
    "@app1.route(\"/\")\n",
    "def hello_world():\n",
    "    return \"<center><h1>Hello, World!!</h1></center>\""
   ]
  },
  {
   "cell_type": "markdown",
   "id": "3e4bf11a",
   "metadata": {},
   "source": [
    "![](Screenshot.jpg)"
   ]
  },
  {
   "cell_type": "markdown",
   "id": "051984ad",
   "metadata": {},
   "source": [
    "Q3.What is App routing in Flask? Why do we use app routes?"
   ]
  },
  {
   "cell_type": "code",
   "execution_count": 5,
   "id": "26cc6b05",
   "metadata": {},
   "outputs": [
    {
     "name": "stdout",
     "output_type": "stream",
     "text": [
      "\n",
      "Flask is a popular micro web framework for Python, known for its simplicity, flexibility, and fine-grained control.\n",
      "It was developed by Armin Ronacher and is based on the Werkzeug WSGI toolkit and Jinja2 template engine.\n",
      "A \"micro\" framework typically means that it's minimalistic and simple at its core, offering the basic tools to get a \n",
      "web application running but leaving the rest up to the developer. This approach makes Flask incredibly versatile and \n",
      "easy to extend with various extensions and plugins.Advantages of Flask Framework\n",
      "\n",
      "    Simplicity and Ease of Use:\n",
      "    Flask is known for its simplicity and a straightforward approach to web development.\n",
      "    It has a minimalistic and easy-to-understand syntax which makes it a great choice for beginners.\n",
      "\n",
      "    Flexibility:\n",
      "    Flask does not impose any dependencies or project layout. This flexibility allows developers to use the tools\n",
      "    and libraries they prefer and to structure their application the way they see fit.\n",
      "\n",
      "    Lightweight:\n",
      "    Being a microframework, Flask is lightweight and has a low overhead compared to more full-featured frameworks.\n",
      "    This makes it suitable for small to medium-sized web applications and services.\n",
      "\n",
      "    Extensible: \n",
      "    Flask can be extended with various extensions that add functionalities like ORM (Object-Relational Mapping),\n",
      "    form validation, upload handling, various open authentication technologies, and more.\n",
      "\n",
      "    Integrated Development Server and Debugger:\n",
      "    Flask includes a built-in development server and a lightweight debugger which can be very handy during the development phase.\n",
      "\n",
      "    RESTful Request Dispatching:\n",
      "    Flask supports RESTful request dispatching which is useful in building RESTful APIs.\n",
      "\n",
      "    Unicode Based:\n",
      "    Flask is unicode based, supporting unicode out-of-the-box, which is essential for modern web applications.\n",
      "\n",
      "    Widely Adopted and Well-Supported:\n",
      "    Flask has a large and active community, which means a wealth of tutorials, resources, and third-party libraries are readily\n",
      "    available. This also ensures quick help and support through community forums.\n",
      "\n",
      "    Testing Support: \n",
      "    Flask allows for the easy setup of unit tests for your application, which is crucial for maintaining code quality \n",
      "    and reliability.\n",
      "\n",
      "    Template Engine: \n",
      "    Flask’s template engine, Jinja2, is very powerful and allows for the creation of dynamic web pages using familiar \n",
      "    Python-like syntax.\n",
      "    \n",
      "    \n"
     ]
    }
   ],
   "source": [
    "print('''\n",
    "Flask is a popular micro web framework for Python, known for its simplicity, flexibility, and fine-grained control.\n",
    "It was developed by Armin Ronacher and is based on the Werkzeug WSGI toolkit and Jinja2 template engine.\n",
    "A \"micro\" framework typically means that it's minimalistic and simple at its core, offering the basic tools to get a \n",
    "web application running but leaving the rest up to the developer. This approach makes Flask incredibly versatile and \n",
    "easy to extend with various extensions and plugins.Advantages of Flask Framework\n",
    "\n",
    "    Simplicity and Ease of Use:\n",
    "    Flask is known for its simplicity and a straightforward approach to web development.\n",
    "    It has a minimalistic and easy-to-understand syntax which makes it a great choice for beginners.\n",
    "\n",
    "    Flexibility:\n",
    "    Flask does not impose any dependencies or project layout. This flexibility allows developers to use the tools\n",
    "    and libraries they prefer and to structure their application the way they see fit.\n",
    "\n",
    "    Lightweight:\n",
    "    Being a microframework, Flask is lightweight and has a low overhead compared to more full-featured frameworks.\n",
    "    This makes it suitable for small to medium-sized web applications and services.\n",
    "\n",
    "    Extensible: \n",
    "    Flask can be extended with various extensions that add functionalities like ORM (Object-Relational Mapping),\n",
    "    form validation, upload handling, various open authentication technologies, and more.\n",
    "\n",
    "    Integrated Development Server and Debugger:\n",
    "    Flask includes a built-in development server and a lightweight debugger which can be very handy during the development phase.\n",
    "\n",
    "    RESTful Request Dispatching:\n",
    "    Flask supports RESTful request dispatching which is useful in building RESTful APIs.\n",
    "\n",
    "    Unicode Based:\n",
    "    Flask is unicode based, supporting unicode out-of-the-box, which is essential for modern web applications.\n",
    "\n",
    "    Widely Adopted and Well-Supported:\n",
    "    Flask has a large and active community, which means a wealth of tutorials, resources, and third-party libraries are readily\n",
    "    available. This also ensures quick help and support through community forums.\n",
    "\n",
    "    Testing Support: \n",
    "    Flask allows for the easy setup of unit tests for your application, which is crucial for maintaining code quality \n",
    "    and reliability.\n",
    "\n",
    "    Template Engine: \n",
    "    Flask’s template engine, Jinja2, is very powerful and allows for the creation of dynamic web pages using familiar \n",
    "    Python-like syntax.\n",
    "    \n",
    "    ''')"
   ]
  },
  {
   "cell_type": "markdown",
   "id": "b46cb797",
   "metadata": {},
   "source": [
    "Q4. Create a “/welcome” route to display the welcome message “Welcome to ABC Corporation” and a “/”\n",
    "route to show the following details:\n",
    "Company Name: ABC Corporation\n",
    "Location: India\n",
    "Contact Detail: 999-999-9999"
   ]
  },
  {
   "cell_type": "code",
   "execution_count": 3,
   "id": "7cdabc3b",
   "metadata": {},
   "outputs": [],
   "source": [
    "from flask import Flask, jsonify\n",
    "\n",
    "app1 = Flask(__name__)\n",
    "\n",
    "@app1.route('/')\n",
    "def home():\n",
    "    # Returning company details\n",
    "    return jsonify({\n",
    "        'Company Name': 'ABC Corporation',\n",
    "        'Location': 'India',\n",
    "        'Contact Detail': '999-999-9999'\n",
    "    })\n",
    "\n",
    "@app1.route('/welcome')\n",
    "def welcome():\n",
    "    return \"<center><h1> Welcome to ABC Corporation</h1></centre>\"\n",
    "\n"
   ]
  },
  {
   "cell_type": "markdown",
   "id": "fa1aea86",
   "metadata": {},
   "source": [
    "![](Screenshot_A.jpg)\n",
    "![](Screenshot_B.jpg)"
   ]
  },
  {
   "cell_type": "code",
   "execution_count": null,
   "id": "8761e08d",
   "metadata": {},
   "outputs": [],
   "source": [
    "Q5. What function is used in Flask for URL Building? Write a Python code to demonstrate the working of the\n",
    "url_for() function."
   ]
  },
  {
   "cell_type": "code",
   "execution_count": 6,
   "id": "735d9470",
   "metadata": {},
   "outputs": [
    {
     "name": "stdout",
     "output_type": "stream",
     "text": [
      " n Flask, the url_for() function is used for URL building. It generates a URL to a view based on \n",
      "the name of the view and any arguments it might take. This is particularly useful for dynamic URLs, \n",
      "as it abstracts away the need to hardcode URLs in your templates and view functions. When using url_for(), \n",
      "you simply provide the name of the view function, and Flask handles the rest, constructing the correct URL based on your app's URL map.\n",
      "\n"
     ]
    }
   ],
   "source": [
    "print(''' n Flask, the url_for() function is used for URL building. It generates a URL to a view based on \n",
    "the name of the view and any arguments it might take. This is particularly useful for dynamic URLs, \n",
    "as it abstracts away the need to hardcode URLs in your templates and view functions. When using url_for(), \n",
    "you simply provide the name of the view function, and Flask handles the rest, constructing the correct URL based on your app's URL map.\n",
    "''')\n",
    "\n",
    "from flask import Flask, url_for\n",
    "\n",
    "app2 = Flask(__name__)\n",
    "\n",
    "@app2.route('/')\n",
    "def home():\n",
    "    return 'This is the home page.'\n",
    "\n",
    "@app2.route('/hello/<name>')\n",
    "def hello(name):\n",
    "    return f'Hello, {name}!'\n",
    "\n",
    "@app2.route('/urls')\n",
    "def show_urls():\n",
    "    # Building URLs using url_for()\n",
    "    home_url = url_for('home')\n",
    "    hello_url = url_for('hello', name='John')\n",
    "    return f\"Home URL: {home_url}, Hello URL: {hello_url}\"\n",
    "\n",
    "\n"
   ]
  }
 ],
 "metadata": {
  "kernelspec": {
   "display_name": "Python 3 (ipykernel)",
   "language": "python",
   "name": "python3"
  },
  "language_info": {
   "codemirror_mode": {
    "name": "ipython",
    "version": 3
   },
   "file_extension": ".py",
   "mimetype": "text/x-python",
   "name": "python",
   "nbconvert_exporter": "python",
   "pygments_lexer": "ipython3",
   "version": "3.10.7"
  }
 },
 "nbformat": 4,
 "nbformat_minor": 5
}
