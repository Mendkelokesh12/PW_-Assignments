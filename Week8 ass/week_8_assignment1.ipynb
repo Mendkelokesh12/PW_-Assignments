{
 "cells": [
  {
   "cell_type": "markdown",
   "id": "5c202139-df9c-40f9-afdc-b3c2050e1245",
   "metadata": {},
   "source": [
    "Q1. Create a Pandas Series that contains the following data: 4, 8, 15, 16, 23, and 42. Then, print the series."
   ]
  },
  {
   "cell_type": "code",
   "execution_count": 5,
   "id": "b6111901-db3c-406e-975d-1fa375c12c5e",
   "metadata": {},
   "outputs": [
    {
     "name": "stdout",
     "output_type": "stream",
     "text": [
      "0     4\n",
      "1     8\n",
      "2    15\n",
      "3    16\n",
      "4    23\n",
      "5    42\n",
      "dtype: int64\n"
     ]
    }
   ],
   "source": [
    "import pandas as pd\n",
    "\n",
    "data = [4,8,15,16,23,42]\n",
    "series  = pd.Series(data)\n",
    "print(series)"
   ]
  },
  {
   "cell_type": "markdown",
   "id": "24e7808c-30d9-49e9-8df1-8a4bca1ab3b8",
   "metadata": {},
   "source": [
    "Q2. Create a variable of list type containing 10 elements in it, and apply pandas.Series function on the\n",
    "variable print it."
   ]
  },
  {
   "cell_type": "code",
   "execution_count": 7,
   "id": "99014500-e9c1-4752-a526-1e3df7403d05",
   "metadata": {},
   "outputs": [
    {
     "name": "stdout",
     "output_type": "stream",
     "text": [
      "0     1\n",
      "1     2\n",
      "2     3\n",
      "3     4\n",
      "4     5\n",
      "5     6\n",
      "6     7\n",
      "7     8\n",
      "8     9\n",
      "9    10\n",
      "dtype: int64\n"
     ]
    }
   ],
   "source": [
    "data = list(range(1,11))\n",
    "series =  pd.Series(data)\n",
    "print(series)"
   ]
  },
  {
   "cell_type": "markdown",
   "id": "60257cb2-ae06-4605-b070-f09c01e9247b",
   "metadata": {},
   "source": [
    "Q3. Create a Pandas DataFrame that contains the following data:"
   ]
  },
  {
   "cell_type": "code",
   "execution_count": 8,
   "id": "227edc2e-df89-4b20-9d61-59ab4159bd6e",
   "metadata": {},
   "outputs": [
    {
     "data": {
      "text/html": [
       "<div>\n",
       "<style scoped>\n",
       "    .dataframe tbody tr th:only-of-type {\n",
       "        vertical-align: middle;\n",
       "    }\n",
       "\n",
       "    .dataframe tbody tr th {\n",
       "        vertical-align: top;\n",
       "    }\n",
       "\n",
       "    .dataframe thead th {\n",
       "        text-align: right;\n",
       "    }\n",
       "</style>\n",
       "<table border=\"1\" class=\"dataframe\">\n",
       "  <thead>\n",
       "    <tr style=\"text-align: right;\">\n",
       "      <th></th>\n",
       "      <th>Name</th>\n",
       "      <th>Age</th>\n",
       "      <th>Gender</th>\n",
       "    </tr>\n",
       "  </thead>\n",
       "  <tbody>\n",
       "    <tr>\n",
       "      <th>0</th>\n",
       "      <td>Alice</td>\n",
       "      <td>25</td>\n",
       "      <td>Female</td>\n",
       "    </tr>\n",
       "    <tr>\n",
       "      <th>1</th>\n",
       "      <td>Bob</td>\n",
       "      <td>30</td>\n",
       "      <td>Male</td>\n",
       "    </tr>\n",
       "    <tr>\n",
       "      <th>2</th>\n",
       "      <td>Claire</td>\n",
       "      <td>27</td>\n",
       "      <td>Female</td>\n",
       "    </tr>\n",
       "  </tbody>\n",
       "</table>\n",
       "</div>"
      ],
      "text/plain": [
       "     Name  Age  Gender\n",
       "0   Alice   25  Female\n",
       "1     Bob   30    Male\n",
       "2  Claire   27  Female"
      ]
     },
     "execution_count": 8,
     "metadata": {},
     "output_type": "execute_result"
    }
   ],
   "source": [
    "data = {'Name':[\"Alice\",\"Bob\",\"Claire\"],\n",
    "       'Age':[25,30,27],\n",
    "       'Gender':[\"Female\",\"Male\",\"Female\"]}\n",
    "df = pd.DataFrame(data)\n",
    "df"
   ]
  },
  {
   "cell_type": "markdown",
   "id": "5b87ca2a-cb46-40e8-9530-fc29e9276fe0",
   "metadata": {},
   "source": [
    "Q4. What is ‘DataFrame’ in pandas and how is it different from pandas.series? Explain with an example."
   ]
  },
  {
   "cell_type": "code",
   "execution_count": 10,
   "id": "d997ef1f-9087-475b-be32-14f4e6ce429d",
   "metadata": {},
   "outputs": [
    {
     "name": "stdout",
     "output_type": "stream",
     "text": [
      "A DataFrame in pandas is a two-dimensional, size-mutable, potentially heterogeneous tabular data structure with labeled axes (rows and columns).\n",
      "It is one of the most commonly used pandas data structures and is ideal for representing real-world data with rows and columns.\n",
      "For instance, you can think of it as a spreadsheet or SQL table, or a dict of Series objects. DataFrame provides a variety of \n",
      "functionalities to easily import, clean, analyze, and visualize data.\n",
      "\n",
      "On the other hand, a Series in pandas is a one-dimensional array-like object containing a sequence of values (similar to a numpy array)\n",
      "and an associated array of data labels, called its index. A Series can be thought of as a single column of data.\n",
      "Differences between DataFrame and Series:\n",
      "\n",
      "    Dimensionality:\n",
      "    The key difference is in their dimensionality. A Series is one-dimensional, suitable for storing and manipulating a single column of data.\n",
      "    A DataFrame, however, is two-dimensional, suitable for storing and manipulating data in a tabular format with rows and columns.\n",
      "    \n",
      "    Data Types:\n",
      "    A Series can only contain a single data type for its entire set of values, while a DataFrame can hold multiple data types; \n",
      "    each column in a DataFrame can have its own data type.\n",
      "\n",
      "Example:\n",
      "\n",
      "Consider a dataset of two columns and three rows. One column for names (\"Name\") and another for ages (\"Age\") \n",
      "\n",
      "\n"
     ]
    },
    {
     "data": {
      "text/html": [
       "<div>\n",
       "<style scoped>\n",
       "    .dataframe tbody tr th:only-of-type {\n",
       "        vertical-align: middle;\n",
       "    }\n",
       "\n",
       "    .dataframe tbody tr th {\n",
       "        vertical-align: top;\n",
       "    }\n",
       "\n",
       "    .dataframe thead th {\n",
       "        text-align: right;\n",
       "    }\n",
       "</style>\n",
       "<table border=\"1\" class=\"dataframe\">\n",
       "  <thead>\n",
       "    <tr style=\"text-align: right;\">\n",
       "      <th></th>\n",
       "      <th>Name</th>\n",
       "      <th>Age</th>\n",
       "    </tr>\n",
       "  </thead>\n",
       "  <tbody>\n",
       "    <tr>\n",
       "      <th>0</th>\n",
       "      <td>Lokesh</td>\n",
       "      <td>25</td>\n",
       "    </tr>\n",
       "    <tr>\n",
       "      <th>1</th>\n",
       "      <td>Mendke</td>\n",
       "      <td>30</td>\n",
       "    </tr>\n",
       "    <tr>\n",
       "      <th>2</th>\n",
       "      <td>Peter</td>\n",
       "      <td>35</td>\n",
       "    </tr>\n",
       "  </tbody>\n",
       "</table>\n",
       "</div>"
      ],
      "text/plain": [
       "     Name  Age\n",
       "0  Lokesh   25\n",
       "1  Mendke   30\n",
       "2   Peter   35"
      ]
     },
     "execution_count": 10,
     "metadata": {},
     "output_type": "execute_result"
    }
   ],
   "source": [
    "print('''A DataFrame in pandas is a two-dimensional, size-mutable, potentially heterogeneous tabular data structure with labeled axes (rows and columns).\n",
    "It is one of the most commonly used pandas data structures and is ideal for representing real-world data with rows and columns.\n",
    "For instance, you can think of it as a spreadsheet or SQL table, or a dict of Series objects. DataFrame provides a variety of \n",
    "functionalities to easily import, clean, analyze, and visualize data.\n",
    "\n",
    "On the other hand, a Series in pandas is a one-dimensional array-like object containing a sequence of values (similar to a numpy array)\n",
    "and an associated array of data labels, called its index. A Series can be thought of as a single column of data.\n",
    "Differences between DataFrame and Series:\n",
    "\n",
    "    Dimensionality:\n",
    "    The key difference is in their dimensionality. A Series is one-dimensional, suitable for storing and manipulating a single column of data.\n",
    "    A DataFrame, however, is two-dimensional, suitable for storing and manipulating data in a tabular format with rows and columns.\n",
    "    \n",
    "    Data Types:\n",
    "    A Series can only contain a single data type for its entire set of values, while a DataFrame can hold multiple data types; \n",
    "    each column in a DataFrame can have its own data type.\n",
    "\n",
    "Example:\n",
    "\n",
    "Consider a dataset of two columns and three rows. One column for names (\"Name\") and another for ages (\"Age\") \n",
    "\n",
    "''')\n",
    "\n",
    "age_series = pd.Series([25, 30, 35], name=\"Age\")\n",
    "\n",
    "data = {\n",
    "    \"Name\": [\"Lokesh\", \"Mendke\", \"Peter\"],\n",
    "    \"Age\": [25, 30, 35]\n",
    "}\n",
    "df = pd.DataFrame(data)\n",
    "df\n"
   ]
  },
  {
   "cell_type": "markdown",
   "id": "b76fae1a-d46e-4b4e-a973-7e6c83e336a7",
   "metadata": {},
   "source": [
    "Q5. What are some common functions you can use to manipulate data in a Pandas DataFrame? Can\n",
    "you give an example of when you might use one of these functions?"
   ]
  },
  {
   "cell_type": "code",
   "execution_count": null,
   "id": "e5f67817-488b-4b17-a6c8-28b5e4b82396",
   "metadata": {},
   "outputs": [],
   "source": [
    "print('''    head() and tail(): Used to quickly check the first few or last few rows of the DataFrame. This is especially useful for getting \n",
    "a quick sense of the data, particularly its structure and a few samples.\n",
    "\n",
    "    describe(): \n",
    "    Provides summary statistics of the numeric columns in the DataFrame. This is useful for a quick analysis of the distribution, count, mean, and \n",
    "    quartiles of numeric data.\n",
    "\n",
    "    info():\n",
    "    Gives a concise summary of a DataFrame. This function is useful for getting an overview of the DataFrame, including the number of entries,\n",
    "    the data type of each column, and the number of non-null values.\n",
    "\n",
    "    drop():\n",
    "    Removes specified labels from rows or columns. This is useful when you need to drop irrelevant or unnecessary columns or rows based on certain \n",
    "    conditions.\n",
    "\n",
    "    fillna():\n",
    "    Fills NA/NaN values with a specified value. This is particularly useful in data cleaning, where you want to replace missing values with a mean, \n",
    "    median, or a specific value.\n",
    "\n",
    "    apply():\n",
    "    Applies a function along an axis of the DataFrame. This is useful for applying a custom function or performing an operation across all \n",
    "    elements in a column or row.\n",
    "\n",
    "    groupby():\n",
    "    Groups DataFrame using a mapper or by a series of columns. This is extremely useful for aggregate operations (such as sum, mean, etc.)\n",
    "    grouped by some category.\n",
    "\n",
    "    merge(), join(), and concat(): \n",
    "    Used for combining different DataFrames or Series in various ways. This is useful when you have data spread across multiple DataFrames and\n",
    "    you want to combine them into a single DataFrame for analysis.\n",
    "\n",
    "    sort_values(), sort_index():\n",
    "    Sorts the data by the values along either axis. This is useful when you want to order your data by certain values or reset the index \n",
    "    of the DataFrame.\n",
    "\n",
    "    unique() and nunique(): \n",
    "    Useful for finding unique values or the number of unique values in a Series. This can help in understanding the diversity of the \n",
    "    data in a particular column.\n",
    "    \n",
    "    \n",
    "    ''')"
   ]
  },
  {
   "cell_type": "markdown",
   "id": "de2c16e9-0f4f-410a-94a8-02f3173f72a1",
   "metadata": {},
   "source": [
    "Q6. Which of the following is mutable in nature Series, DataFrame, Panel?"
   ]
  },
  {
   "cell_type": "code",
   "execution_count": null,
   "id": "7a52f55d-6b78-4514-8975-75c4a7fa30f2",
   "metadata": {},
   "outputs": [],
   "source": [
    "print('''All three pandas data structures—Series, DataFrame, and Panel—are mutable in nature. This means that their contents (values) can\n",
    "be modified after they have been created. You can change individual elements, add new columns or rows, and even remove existing ones.\n",
    "\n",
    "However, \n",
    "it's worth noting that the Panel data structure has been deprecated since pandas 0.20.0 and removed in later versions, as MultiIndex DataFrames \n",
    "(dataframes with hierarchical indexing) and xarray objects are recommended for 3D data or n-dimensional data representation.\n",
    "Despite this, when Panel was still in use, it was also mutable like Series and DataFrame.\n",
    "\n",
    "So, to directly answer the question: Series, DataFrame, and Panel (when it was still part of pandas) are all mutable in nature.\n",
    "\n",
    "''')"
   ]
  },
  {
   "cell_type": "markdown",
   "id": "149b4c9b-d792-4945-9748-732abe22a9b7",
   "metadata": {},
   "source": [
    "Q7. Create a DataFrame using multiple Series. Explain with an example."
   ]
  },
  {
   "cell_type": "code",
   "execution_count": 11,
   "id": "b38b1b8f-a772-49d5-93e6-b7ab47735328",
   "metadata": {},
   "outputs": [
    {
     "name": "stdout",
     "output_type": "stream",
     "text": [
      "      Name  Age\n",
      "0    Alice   25\n",
      "1      Bob   30\n",
      "2  Charlie   35\n"
     ]
    }
   ],
   "source": [
    "import pandas as pd\n",
    "\n",
    "# Create two Series\n",
    "names = pd.Series([\"Alice\", \"Bob\", \"Charlie\"], name=\"Name\")\n",
    "ages = pd.Series([25, 30, 35], name=\"Age\")\n",
    "\n",
    "# Create a DataFrame by combining the Series\n",
    "df = pd.DataFrame({\"Name\": names, \"Age\": ages})\n",
    "\n",
    "print(df)\n"
   ]
  },
  {
   "cell_type": "code",
   "execution_count": null,
   "id": "fff176c5-2296-49cd-9fd7-0083b7af0817",
   "metadata": {},
   "outputs": [],
   "source": []
  }
 ],
 "metadata": {
  "kernelspec": {
   "display_name": "Python 3 (ipykernel)",
   "language": "python",
   "name": "python3"
  },
  "language_info": {
   "codemirror_mode": {
    "name": "ipython",
    "version": 3
   },
   "file_extension": ".py",
   "mimetype": "text/x-python",
   "name": "python",
   "nbconvert_exporter": "python",
   "pygments_lexer": "ipython3",
   "version": "3.10.8"
  }
 },
 "nbformat": 4,
 "nbformat_minor": 5
}
