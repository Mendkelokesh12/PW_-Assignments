{
 "cells": [
  {
   "cell_type": "markdown",
   "id": "2d41d664-2e24-4fb2-b677-08fdad24003b",
   "metadata": {},
   "source": [
    "Q1. List any five functions of the pandas library with execution."
   ]
  },
  {
   "cell_type": "code",
   "execution_count": 11,
   "id": "32a164f3-db5a-4840-9f6d-c3f15e97d3ef",
   "metadata": {},
   "outputs": [
    {
     "name": "stdout",
     "output_type": "stream",
     "text": [
      " read_csv(): This function is used to read a CSV (Comma Separated Values) file and return a DataFrame \n",
      "\n",
      "      Name  Age  Id_No\n",
      "0   Lokesh   20    110\n",
      "1    Ayush   21    120\n",
      "2    Sahas   20    130\n",
      "3  Vaibhav   20    140 \n",
      "\n",
      " describe(): This function is used to generate descriptive statistics about a DataFrame, including count, mean, standard deviation, \n",
      "minimum, and maximum values. \n",
      "\n",
      "         Age       Id_No\n",
      "count   4.00    4.000000\n",
      "mean   20.25  125.000000\n",
      "std     0.50   12.909944\n",
      "min    20.00  110.000000\n",
      "25%    20.00  117.500000\n",
      "50%    20.00  125.000000\n",
      "75%    20.25  132.500000\n",
      "max    21.00  140.000000 \n",
      "\n",
      " groupby(): This function is used to group a DataFrame by one or more columns and perform aggregation operations on the groups. \n",
      "\n",
      "Name\n",
      "Ayush      21.0\n",
      "Lokesh     20.0\n",
      "Sahas      20.0\n",
      "Vaibhav    20.0\n",
      "Name: Age, dtype: float64 \n",
      "\n",
      "pivot_table(): This function is used to create a pivot table from a DataFrame.\n",
      "\n",
      "Name   Ayush  Lokesh  Sahas  Vaibhav\n",
      "Id_No                               \n",
      "110      NaN    20.0    NaN      NaN\n",
      "120     21.0     NaN    NaN      NaN\n",
      "130      NaN     NaN   20.0      NaN\n",
      "140      NaN     NaN    NaN     20.0 \n",
      "\n",
      "merge(): This function is used to merge two or more DataFrames based on a common column. \n",
      "\n",
      "Empty DataFrame\n",
      "Columns: [Name_x, Age_x, Id_No, Unnamed: 0, Name_y, Age_y]\n",
      "Index: [] \n",
      "\n"
     ]
    }
   ],
   "source": [
    "import pandas as pd\n",
    "print(''' read_csv(): This function is used to read a CSV (Comma Separated Values) file and return a DataFrame \n",
    "''')\n",
    "data = {\"Name\": ['Lokesh','Ayush','Sahas','Vaibhav'],\n",
    "       \"Age\":[20,21,20,20],\n",
    "       \"Id_No\":[110,120,130,140]\n",
    "       }\n",
    "df = pd.DataFrame(data)\n",
    "df.to_csv(\"Data1.csv\",index = False)\n",
    "df1 = pd.read_csv(\"Data1.csv\")\n",
    "print(df1,\"\\n\")\n",
    "\n",
    "\n",
    "print(''' describe(): This function is used to generate descriptive statistics about a DataFrame, including count, mean, standard deviation, \n",
    "minimum, and maximum values. \n",
    "''')\n",
    "print(df1.describe(),\"\\n\")\n",
    "\n",
    "print(''' groupby(): This function is used to group a DataFrame by one or more columns and perform aggregation operations on the groups. \n",
    "''')\n",
    "grouped = df1.groupby('Name')['Age'].mean()\n",
    "print(grouped,\"\\n\")\n",
    "\n",
    "print('''pivot_table(): This function is used to create a pivot table from a DataFrame.\n",
    "''')\n",
    "pivot = pd.pivot_table(df1, values='Age', index='Id_No', columns='Name')\n",
    "print(pivot,\"\\n\")\n",
    "\n",
    "print('''merge(): This function is used to merge two or more DataFrames based on a common column. \n",
    "''')\n",
    "\n",
    "data1= {\"Name\": ['Akshata','Shunai','Rupali','Vaishanv'],\n",
    "       \"Age\":[20,19,20,19],\n",
    "       \"Id_No\":[150,160,170,180]\n",
    "       }\n",
    "df2 = pd.DataFrame(data1)\n",
    "df2.to_csv(\"Data2.csv\")\n",
    "df3 = pd.read_csv(\"Data2.csv\")\n",
    "merged = pd.merge(df1,df3,on='Id_No')\n",
    "print(merged,\"\\n\")"
   ]
  },
  {
   "cell_type": "markdown",
   "id": "45e8ab39-2f3c-4df6-95ab-958175add493",
   "metadata": {},
   "source": [
    "Q2. Given a Pandas DataFrame df with columns 'A', 'B', and 'C', write a Python function to re-index the\n",
    "DataFrame with a new index that starts from 1 and increments by 2 for each row."
   ]
  },
  {
   "cell_type": "code",
   "execution_count": 12,
   "id": "f7166bf7-75b4-4ed9-bf4b-0ad70eb44cfc",
   "metadata": {},
   "outputs": [
    {
     "name": "stdout",
     "output_type": "stream",
     "text": [
      "     A    B    C\n",
      "1  2.0  5.0  8.0\n",
      "3  NaN  NaN  NaN\n"
     ]
    }
   ],
   "source": [
    "def reindex(a):\n",
    "    new_index = pd.RangeIndex(start = 1,stop = len(a)+1 ,step =2)\n",
    "    re_index = df.reindex(new_index)\n",
    "    return re_index\n",
    "\n",
    "data = {'A': [1, 2, 3],\n",
    "        'B': [4, 5, 6],\n",
    "        'C': [7, 8, 9]}\n",
    "df = pd.DataFrame(data)\n",
    "rep_index = reindex(df)\n",
    "\n",
    "print(rep_index)\n",
    "\n"
   ]
  },
  {
   "cell_type": "markdown",
   "id": "0c2bd213-b091-4faf-b0d4-049f0bfffb9c",
   "metadata": {},
   "source": [
    "Q3. You have a Pandas DataFrame df with a column named 'Values'. Write a Python function that\n",
    "iterates over the DataFrame and calculates the sum of the first three values in the 'Values' column. The\n",
    "function should print the sum to the console.\n",
    "For example, if the 'Values' column of df contains the values [10, 20, 30, 40, 50], your function should\n",
    "calculate and print the sum of the first three values, which is 60."
   ]
  },
  {
   "cell_type": "code",
   "execution_count": 13,
   "id": "dd52d642-dd60-4383-b40a-ae85a81dafb3",
   "metadata": {},
   "outputs": [
    {
     "name": "stdout",
     "output_type": "stream",
     "text": [
      "Values    60\n",
      "dtype: int64\n"
     ]
    }
   ],
   "source": [
    "def sum_three(df):\n",
    "    sum = df.head(3).sum()\n",
    "    print(sum)\n",
    "data ={ \"Values\": [10, 20, 30, 40, 50]}\n",
    "df  = pd.DataFrame(data)\n",
    "sum_row_data = sum_three(df)"
   ]
  },
  {
   "cell_type": "markdown",
   "id": "c41026e7-2374-4317-a8ec-8bcceac6f47a",
   "metadata": {},
   "source": [
    "Q4. Given a Pandas DataFrame df with a column 'Text', write a Python function to create a new column\n",
    "'Word_Count' that contains the number of words in each row of the 'Text' column."
   ]
  },
  {
   "cell_type": "code",
   "execution_count": 14,
   "id": "09e8c3a1-f920-4c59-bd5e-1a146f96bc35",
   "metadata": {},
   "outputs": [
    {
     "data": {
      "text/html": [
       "<div>\n",
       "<style scoped>\n",
       "    .dataframe tbody tr th:only-of-type {\n",
       "        vertical-align: middle;\n",
       "    }\n",
       "\n",
       "    .dataframe tbody tr th {\n",
       "        vertical-align: top;\n",
       "    }\n",
       "\n",
       "    .dataframe thead th {\n",
       "        text-align: right;\n",
       "    }\n",
       "</style>\n",
       "<table border=\"1\" class=\"dataframe\">\n",
       "  <thead>\n",
       "    <tr style=\"text-align: right;\">\n",
       "      <th></th>\n",
       "      <th>Text</th>\n",
       "      <th>len</th>\n",
       "      <th>Word_count</th>\n",
       "    </tr>\n",
       "  </thead>\n",
       "  <tbody>\n",
       "    <tr>\n",
       "      <th>0</th>\n",
       "      <td>Data science master class is very importanten for all data engineers</td>\n",
       "      <td>68</td>\n",
       "      <td>11</td>\n",
       "    </tr>\n",
       "    <tr>\n",
       "      <th>1</th>\n",
       "      <td>my name is lokesh</td>\n",
       "      <td>17</td>\n",
       "      <td>4</td>\n",
       "    </tr>\n",
       "    <tr>\n",
       "      <th>2</th>\n",
       "      <td>i also study data science</td>\n",
       "      <td>25</td>\n",
       "      <td>5</td>\n",
       "    </tr>\n",
       "  </tbody>\n",
       "</table>\n",
       "</div>"
      ],
      "text/plain": [
       "                                                                   Text  len  \\\n",
       "0  Data science master class is very importanten for all data engineers   68   \n",
       "1                                                     my name is lokesh   17   \n",
       "2                                             i also study data science   25   \n",
       "\n",
       "   Word_count  \n",
       "0          11  \n",
       "1           4  \n",
       "2           5  "
      ]
     },
     "execution_count": 14,
     "metadata": {},
     "output_type": "execute_result"
    }
   ],
   "source": [
    "pd.set_option(\"display.max_colwidth\",500)\n",
    "df3 = pd.DataFrame({\"Text\":[\"Data science master class is very importanten for all data engineers\",\"my name is lokesh\",\"i also study data science\"]})\n",
    "df3['len'] = df3['Text'].apply(len)\n",
    "df3[\"Word_count\"] = df3[\"Text\"].apply(lambda x:len(x.split()))\n",
    "df3"
   ]
  },
  {
   "cell_type": "markdown",
   "id": "636c16f9-908b-4cbc-9011-b859ead0c8ee",
   "metadata": {},
   "source": [
    "Q5. How are DataFrame.size() and DataFrame.shape() different?"
   ]
  },
  {
   "cell_type": "code",
   "execution_count": 15,
   "id": "1703909a-5592-427c-8d16-f399e3843a31",
   "metadata": {},
   "outputs": [
    {
     "name": "stdout",
     "output_type": "stream",
     "text": [
      "    DataFrame.size:\n",
      "        This attribute returns the total number of elements in the DataFrame. It is essentially the product of the number of rows and \n",
      "        the number of columns. For instance, if a DataFrame has 10 rows and 5 columns, DataFrame.size will return 50.\n",
      "        It is a single integer value representing the total count of elements.\n",
      "\n",
      "    DataFrame.shape:\n",
      "        This attribute returns a tuple representing the dimensionality of the DataFrame. The tuple contains two elements: \n",
      "        the number of rows and the number of columns, in that order. For example, if a DataFrame has 10 rows and 5 columns, \n",
      "        DataFrame.shape will return (10, 5).It provides a clearer picture of the structure of the DataFrame by separately \n",
      "        indicating the number of rows and columns. \n",
      "        \n",
      "        \n"
     ]
    }
   ],
   "source": [
    "print('''    DataFrame.size:\n",
    "        This attribute returns the total number of elements in the DataFrame. It is essentially the product of the number of rows and \n",
    "        the number of columns. For instance, if a DataFrame has 10 rows and 5 columns, DataFrame.size will return 50.\n",
    "        It is a single integer value representing the total count of elements.\n",
    "\n",
    "    DataFrame.shape:\n",
    "        This attribute returns a tuple representing the dimensionality of the DataFrame. The tuple contains two elements: \n",
    "        the number of rows and the number of columns, in that order. For example, if a DataFrame has 10 rows and 5 columns, \n",
    "        DataFrame.shape will return (10, 5).It provides a clearer picture of the structure of the DataFrame by separately \n",
    "        indicating the number of rows and columns. \n",
    "        \n",
    "        ''')"
   ]
  },
  {
   "cell_type": "markdown",
   "id": "b2b82ebe-634b-47b9-a8f7-2077bc459269",
   "metadata": {},
   "source": [
    "Q6. Which function of pandas do we use to read an excel file?"
   ]
  },
  {
   "cell_type": "code",
   "execution_count": 16,
   "id": "d60acd9a-fff4-47f6-b745-03cdbe3cf2a7",
   "metadata": {},
   "outputs": [
    {
     "name": "stdout",
     "output_type": "stream",
     "text": [
      " To read an Excel file into a pandas DataFrame, you use the pandas.read_excel() function. This function can read data from various \n",
      "Excel file formats (e.g., .xlsx, .xlsm, .xlsb, .xls) into a pandas DataFrame. Here's a basic example of how to use it:\n",
      "\n",
      "df = pd.read_excel('path_to_file.xlsx')\n"
     ]
    }
   ],
   "source": [
    "print(''' To read an Excel file into a pandas DataFrame, you use the pandas.read_excel() function. This function can read data from various \n",
    "Excel file formats (e.g., .xlsx, .xlsm, .xlsb, .xls) into a pandas DataFrame. Here's a basic example of how to use it:\n",
    "\n",
    "df = pd.read_excel('path_to_file.xlsx')''')"
   ]
  },
  {
   "cell_type": "markdown",
   "id": "46fa387a-3c2e-4366-9b0f-475e117434fc",
   "metadata": {},
   "source": [
    "Q7. You have a Pandas DataFrame df that contains a column named 'Email' that contains email\n",
    "addresses in the format 'username@domain.com'. Write a Python function that creates a new column\n",
    "'Username' in df that contains only the username part of each email address.\n",
    "The username is the part of the email address that appears before the '@' symbol. For example, if the\n",
    "email address is 'john.doe@example.com', the 'Username' column should contain 'john.doe'. Your\n",
    "function should extract the username from each email address and store it in the new 'Username'\n",
    "column."
   ]
  },
  {
   "cell_type": "code",
   "execution_count": 17,
   "id": "6c95d574-5100-4d50-92ac-fd7ea94fb40d",
   "metadata": {},
   "outputs": [
    {
     "name": "stdout",
     "output_type": "stream",
     "text": [
      "                        Email        Username\n",
      "0        john.doe@example.com        john.doe\n",
      "1  lokesh.mendke @example.com  lokesh.mendke \n",
      "2       jim.brown@example.com       jim.brown\n"
     ]
    }
   ],
   "source": [
    "\n",
    "import pandas as pd\n",
    "def username(df):\n",
    "    df['Username'] = ' '\n",
    "    for  index ,row in df.iterrows():\n",
    "        username = row['Email'].split('@')[0]\n",
    "        df.at[index,'Username'] = username\n",
    "    return df\n",
    "data = {'Email': ['john.doe@example.com', 'lokesh.mendke @example.com', 'jim.brown@example.com']}\n",
    "df = pd.DataFrame(data)\n",
    "df = username(df)\n",
    "print(df)"
   ]
  },
  {
   "cell_type": "markdown",
   "id": "75278703-851d-491a-b05f-7c89932cc9aa",
   "metadata": {},
   "source": [
    "You have a Pandas DataFrame df with columns 'A', 'B', and 'C'. Write a Python function that selects\n",
    "all rows where the value in column 'A' is greater than 5 and the value in column 'B' is less than 10. The\n",
    "function should return a new DataFrame that contains only the selected rows.\n",
    "For example, if df contains the following values:\n",
    "A B C\n",
    "0 3 5 1\n",
    "1 8 2 7\n",
    "2 6 9 4\n",
    "3 2 3 5\n",
    "4 9 1 2\n",
    "\n",
    "\n",
    "Data Science Masters\n",
    "\n",
    "Your function should select the following rows: A B C\n",
    "1 8 2 7\n",
    "4 9 1 2\n",
    "The function should return a new DataFrame that contains only the selected rows."
   ]
  },
  {
   "cell_type": "code",
   "execution_count": 18,
   "id": "015953d9-7988-427b-b144-6f35aff74f06",
   "metadata": {},
   "outputs": [
    {
     "name": "stdout",
     "output_type": "stream",
     "text": [
      "   A  B  C\n",
      "1  8  2  7\n",
      "2  6  9  4\n",
      "4  9  1  2\n"
     ]
    }
   ],
   "source": [
    "def  selected_rows(df):\n",
    "    selected_data = df[(df['A']>5 ) & (df['B']<10)]\n",
    "    return selected_data\n",
    "\n",
    "data = {'A': [3, 8, 6, 2, 9], 'B': [5, 2, 9, 3, 1], 'C': [1, 7, 4, 5, 2]}\n",
    "df = pd.DataFrame(data)\n",
    "selected_rows = selected_rows(df)\n",
    "print(selected_rows)\n",
    "\n"
   ]
  },
  {
   "cell_type": "markdown",
   "id": "c6c4ded4-3f99-4a3e-9863-8bf321900de7",
   "metadata": {},
   "source": [
    "Q9. Given a Pandas DataFrame df with a column 'Values', write a Python function to calculate the mean,\n",
    "median, and standard deviation of the values in the 'Values' column."
   ]
  },
  {
   "cell_type": "code",
   "execution_count": 19,
   "id": "e1a42746-4b9c-4152-8f48-f67ede5befb2",
   "metadata": {},
   "outputs": [
    {
     "name": "stdout",
     "output_type": "stream",
     "text": [
      "{'mean': 30.0, 'median': 30.0, 'std': 15.811388300841896}\n"
     ]
    }
   ],
   "source": [
    "def calculate_stats(df):\n",
    "    mean = df['Values'].mean()\n",
    "    median = df['Values'].median()\n",
    "    std = df['Values'].std()\n",
    "    return {'mean': mean, 'median': median, 'std': std}\n",
    "\n",
    "data = {'Values': [10, 20, 30, 40, 50]}\n",
    "df = pd.DataFrame(data)\n",
    "stats = calculate_stats(df)\n",
    "print(stats)"
   ]
  },
  {
   "cell_type": "raw",
   "id": "9a4e9b8c-b0c0-4978-9a8b-3f1355710c6d",
   "metadata": {},
   "source": [
    "Q10. Given a Pandas DataFrame df with a column 'Sales' and a column 'Date', write a Python function to\n",
    "create a new column 'MovingAverage' that contains the moving average of the sales for the past 7 days\n",
    "for each row in the DataFrame. The moving average should be calculated using a window of size 7 and\n",
    "should include the current day."
   ]
  },
  {
   "cell_type": "code",
   "execution_count": 23,
   "id": "7df6e400-db22-404e-bbcd-f1600390f2fd",
   "metadata": {},
   "outputs": [
    {
     "name": "stdout",
     "output_type": "stream",
     "text": [
      "        Date  Sales  MovingAverage\n",
      "0 2022-01-01     10           10.0\n",
      "1 2022-01-02     20           15.0\n",
      "2 2022-01-03     30           20.0\n",
      "3 2022-01-04     40           25.0\n",
      "4 2022-01-05     50           30.0\n",
      "5 2022-01-06     60           35.0\n",
      "6 2022-01-07     70           40.0\n",
      "7 2022-01-08     80           50.0\n",
      "8 2022-01-09     90           60.0\n",
      "9 2022-01-10    100           70.0\n"
     ]
    }
   ],
   "source": [
    "def moving_average(df):\n",
    "    df['MovingAverage'] = 0.0\n",
    "    for index,row in df.iterrows():\n",
    "        window =df.iloc[max(0,index - 6):index+1]['Sales']\n",
    "        moving_average = np.mean(window)\n",
    "        df.at[index, 'MovingAverage'] = moving_average\n",
    "    \n",
    "    return df\n",
    "data = {'Date': pd.date_range(start='2022-01-01', end='2022-01-10'), 'Sales': [10, 20, 30, 40, 50, 60, 70, 80, 90, 100]}\n",
    "df = pd.DataFrame(data)\n",
    "df = moving_average(df)\n",
    "print(df)\n"
   ]
  },
  {
   "cell_type": "markdown",
   "id": "50226bf2-344c-4a64-9de3-bf0e466e7c7b",
   "metadata": {},
   "source": [
    "Q11. You have a Pandas DataFrame df with a column 'Date'. Write a Python function that creates a new\n",
    "column 'Weekday' in the DataFrame. The 'Weekday' column should contain the weekday name (e.g.\n",
    "Monday, Tuesday) corresponding to each date in the 'Date' column.\n",
    "For example, if df contains the following values:\n",
    "Date\n",
    "0 2023-01-01\n",
    "1 2023-01-02\n",
    "2 2023-01-03\n",
    "3 2023-01-04\n",
    "4 2023-01-05\n",
    "Your function should create the following DataFrame:\n",
    "\n",
    "Date Weekday\n",
    "0 2023-01-01 Sunday\n",
    "1 2023-01-02 Monday\n",
    "2 2023-01-03 Tuesday\n",
    "3 2023-01-04 Wednesday\n",
    "4 2023-01-05 Thursday\n",
    "The function should return the modified DataFrame."
   ]
  },
  {
   "cell_type": "code",
   "execution_count": 25,
   "id": "b2162519-6b1b-4106-8f23-b806e39cfd34",
   "metadata": {},
   "outputs": [
    {
     "name": "stdout",
     "output_type": "stream",
     "text": [
      "        Date    Weekday\n",
      "0 2023-01-01     Sunday\n",
      "1 2023-01-02     Monday\n",
      "2 2023-01-03    Tuesday\n",
      "3 2023-01-04  Wednesday\n",
      "4 2023-01-05   Thursday\n"
     ]
    },
    {
     "name": "stderr",
     "output_type": "stream",
     "text": [
      "/tmp/ipykernel_97/548019602.py:8: FutureWarning: Inferring datetime64[ns] from data containing strings is deprecated and will be removed in a future version. To retain the old behavior explicitly pass Series(data, dtype=datetime64[ns])\n",
      "  for index, row in df.iterrows():\n"
     ]
    }
   ],
   "source": [
    "def weekday_column(df):\n",
    "    df['Weekday'] = ''\n",
    "    for index, row in df.iterrows():\n",
    "        date = row['Date'].to_pydatetime()\n",
    "        weekday = date.strftime('%A')\n",
    "        df.at[index, 'Weekday'] = weekday\n",
    "    return df\n",
    "data = {'Date': pd.date_range(start='2023-01-01', end='2023-01-05')}\n",
    "df = pd.DataFrame(data)\n",
    "df = weekday_column(df)\n",
    "print(df)"
   ]
  },
  {
   "cell_type": "markdown",
   "id": "abd68e45-42bb-480f-a639-d5ac43d3b940",
   "metadata": {},
   "source": [
    "Q12. Given a Pandas DataFrame df with a column 'Date' that contains timestamps, write a Python\n",
    "function to select all rows where the date is between '2023-01-01' and '2023-01-31'."
   ]
  },
  {
   "cell_type": "code",
   "execution_count": 26,
   "id": "728f6823-88a8-492b-ab90-d8d5ac7126e4",
   "metadata": {},
   "outputs": [
    {
     "name": "stdout",
     "output_type": "stream",
     "text": [
      "         Date\n",
      "0  2023-01-01\n",
      "1  2023-01-02\n",
      "2  2023-01-03\n",
      "3  2023-01-04\n",
      "4  2023-01-05\n",
      "5  2023-01-06\n",
      "6  2023-01-07\n",
      "7  2023-01-08\n",
      "8  2023-01-09\n",
      "9  2023-01-10\n",
      "10 2023-01-11\n",
      "11 2023-01-12\n",
      "12 2023-01-13\n",
      "13 2023-01-14\n",
      "14 2023-01-15\n",
      "15 2023-01-16\n",
      "16 2023-01-17\n",
      "17 2023-01-18\n",
      "18 2023-01-19\n",
      "19 2023-01-20\n",
      "20 2023-01-21\n",
      "21 2023-01-22\n",
      "22 2023-01-23\n",
      "23 2023-01-24\n",
      "24 2023-01-25\n",
      "25 2023-01-26\n",
      "26 2023-01-27\n",
      "27 2023-01-28\n",
      "28 2023-01-29\n",
      "29 2023-01-30\n",
      "30 2023-01-31\n"
     ]
    }
   ],
   "source": [
    "def select_date_range(df):\n",
    "    start_date = pd.Timestamp('2023-01-01')\n",
    "    end_date = pd.Timestamp('2023-01-31')\n",
    "    selected_rows = df[(df['Date'] >= start_date) & (df['Date'] <= end_date)]\n",
    "    return selected_rows\n",
    "data = {'Date': pd.date_range(start='2023-01-01', end='2023-02-01')}\n",
    "df = pd.DataFrame(data)\n",
    "selected_rows = select_date_range(df)\n",
    "print(selected_rows)"
   ]
  },
  {
   "cell_type": "markdown",
   "id": "180b5bc7-2cbf-4496-86dd-b9d1ce5aa1ee",
   "metadata": {},
   "source": [
    "Q13. To use the basic functions of pandas, what is the first and foremost necessary library that needs to\n",
    "be imported?"
   ]
  },
  {
   "cell_type": "code",
   "execution_count": 27,
   "id": "f40fc4ad-d5e1-4e3d-87bc-4f7a2666d447",
   "metadata": {},
   "outputs": [
    {
     "name": "stdout",
     "output_type": "stream",
     "text": [
      " The first and foremost necessary library that needs to be imported to use the basic functions of pandas is pandas.\n",
      "Here's an example of how to import it:\n",
      "\n",
      "import pandas as pd\n"
     ]
    }
   ],
   "source": [
    "print(''' The first and foremost necessary library that needs to be imported to use the basic functions of pandas is pandas.\n",
    "Here's an example of how to import it:\n",
    "\n",
    "import pandas as pd''')"
   ]
  },
  {
   "cell_type": "code",
   "execution_count": null,
   "id": "d410fcb3-4382-4791-9c14-327ea208a7ec",
   "metadata": {},
   "outputs": [],
   "source": []
  }
 ],
 "metadata": {
  "kernelspec": {
   "display_name": "Python 3 (ipykernel)",
   "language": "python",
   "name": "python3"
  },
  "language_info": {
   "codemirror_mode": {
    "name": "ipython",
    "version": 3
   },
   "file_extension": ".py",
   "mimetype": "text/x-python",
   "name": "python",
   "nbconvert_exporter": "python",
   "pygments_lexer": "ipython3",
   "version": "3.10.8"
  }
 },
 "nbformat": 4,
 "nbformat_minor": 5
}
