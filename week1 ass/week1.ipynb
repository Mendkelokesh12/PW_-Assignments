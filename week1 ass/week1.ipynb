{
 "cells": [
  {
   "cell_type": "markdown",
   "id": "c824a36b-5120-4335-a11c-5d590e3dca67",
   "metadata": {},
   "source": [
    "Q1. Create one variable containing following type of data:\n",
    "(i) string\n",
    "(ii) list\n",
    "(iii) float\n",
    "(iv) tuple"
   ]
  },
  {
   "cell_type": "code",
   "execution_count": null,
   "id": "d97564b7-8131-4163-b19a-b5a01b661469",
   "metadata": {},
   "outputs": [],
   "source": [
    "a = \"Lokesh\"\n",
    "b = [22,3.7,\"Lokesh\",56]\n",
    "c = 3.1456\n",
    "d = (3,5,7)"
   ]
  },
  {
   "cell_type": "markdown",
   "id": "6842abbc-e7b7-4a6f-926e-37d752eee9ec",
   "metadata": {},
   "source": [
    "Q2. Given are some following variables containing data:\n",
    "(i) var1 = ‘ ‘\n",
    "(ii) var2 = ‘[ DS , ML , Python]’\n",
    "(iii) var3 = [ ‘DS’ , ’ML’ , ‘Python’ ]\n",
    "(iv) var4 = 1.\n",
    "What will be the data type of the above given variable."
   ]
  },
  {
   "cell_type": "code",
   "execution_count": 15,
   "id": "284b1db8-77f7-4e2d-9a1c-31f763f62146",
   "metadata": {},
   "outputs": [
    {
     "name": "stdout",
     "output_type": "stream",
     "text": [
      "<class 'str'>\n",
      "<class 'str'>\n",
      "<class 'list'>\n",
      "<class 'int'>\n"
     ]
    }
   ],
   "source": [
    "var1 = \"\"\n",
    "var2 = \"['DS', 'ML', 'Python']\"\n",
    "var3 = [\"DS\", \"ML\", \"Python\"]\n",
    "var4 = 1\n",
    "print(type(var1))\n",
    "print(type(var2))\n",
    "print(type(var3))\n",
    "print(type(var4))"
   ]
  },
  {
   "cell_type": "markdown",
   "id": "313c1f8d-7fa9-4c6f-baa5-c6eada4b0f7d",
   "metadata": {},
   "source": [
    "Q3. Explain the use of the following operators using an example:\n",
    "(i) /\n",
    "(ii) %\n",
    "(iii) //\n",
    "(iv) **"
   ]
  },
  {
   "cell_type": "code",
   "execution_count": 16,
   "id": "c4255313-b83f-4523-8425-611fe3702fd1",
   "metadata": {},
   "outputs": [
    {
     "name": "stdout",
     "output_type": "stream",
     "text": [
      "2.5\n",
      "1\n",
      "2\n",
      "25\n"
     ]
    }
   ],
   "source": [
    "a = 5\n",
    "b = 2\n",
    "\n",
    "# Division\n",
    "c = a / b\n",
    "print(c)    # Output: 2.5\n",
    "\n",
    "# Modulus\n",
    "d = a % b\n",
    "print(d)    # Output: 1\n",
    "\n",
    "# Floor division\n",
    "e = a // b\n",
    "print(e)    # Output: 2\n",
    "\n",
    "# Exponentiation\n",
    "f = a ** b\n",
    "print(f)    # Output: 25\n"
   ]
  },
  {
   "cell_type": "markdown",
   "id": "67a95527-4133-4b9f-a4e8-b980b3611d55",
   "metadata": {},
   "source": [
    "Q4. Create a list of length 10 of your choice containing multiple types of data. Using for loop print the\n",
    "element and its data type."
   ]
  },
  {
   "cell_type": "code",
   "execution_count": 32,
   "id": "abc7291d-77c6-4b80-a23f-0cc1eff08db4",
   "metadata": {},
   "outputs": [
    {
     "name": "stdout",
     "output_type": "stream",
     "text": [
      " 1 :-    Data Type: <class 'int'>\n",
      " Hello :-    Data Type: <class 'str'>\n",
      " True :-    Data Type: <class 'bool'>\n",
      " 3.14 :-    Data Type: <class 'float'>\n",
      " [1, 2, 3] :-    Data Type: <class 'list'>\n",
      " {'name': 'Lokesh'} :-    Data Type: <class 'dict'>\n",
      " (1, 2, 3) :-    Data Type: <class 'tuple'>\n",
      " 42 :-    Data Type: <class 'int'>\n",
      " None :-    Data Type: <class 'NoneType'>\n",
      " Ayush :-    Data Type: <class 'str'>\n"
     ]
    }
   ],
   "source": [
    "my_list = [1, \"Hello\", True, 3.14, [1, 2, 3], {\"name\": \"Lokesh\"}, (1, 2, 3), 42, None, \"Ayush\"]\n",
    "for i in my_list:\n",
    "    print(f\" {i} :-    Data Type: {type(i)}\")"
   ]
  },
  {
   "cell_type": "markdown",
   "id": "2ca8301d-3fe0-4014-937f-58b15ba95bd7",
   "metadata": {},
   "source": [
    "Q5. Using a while loop, verify if the number A is purely divisible by number B and if so then how many\n",
    "times it can be divisible."
   ]
  },
  {
   "cell_type": "code",
   "execution_count": 33,
   "id": "25cd3a01-fe3d-40c4-bde8-95eefa18b63f",
   "metadata": {},
   "outputs": [
    {
     "name": "stdin",
     "output_type": "stream",
     "text": [
      "Enter the first number:  22\n",
      "Enter the second number:  10\n"
     ]
    },
    {
     "name": "stdout",
     "output_type": "stream",
     "text": [
      "The number 22 is not divisible by 10.\n"
     ]
    }
   ],
   "source": [
    "def is_divisible(a, b):\n",
    "    count = 0\n",
    "    while a % b == 0:\n",
    "        count += 1\n",
    "        a //= b\n",
    "    return count\n",
    "\n",
    "\n",
    "a = int(input(\"Enter the first number: \"))\n",
    "b = int(input(\"Enter the second number: \"))\n",
    "\n",
    "number_of_times_divisible = is_divisible(a, b)\n",
    "\n",
    "if number_of_times_divisible > 0:\n",
    "    print(f\"The number {a} is divisible by {b} {number_of_times_divisible} times.\")\n",
    "else:\n",
    "    print(f\"The number {a} is not divisible by {b}.\")\n"
   ]
  },
  {
   "cell_type": "markdown",
   "id": "0a650346-58ae-422d-9c17-6cbf62920d1e",
   "metadata": {},
   "source": [
    "Q6. Create a list containing 25 int type data. Using for loop and if-else condition print if the element is\n",
    "divisible by 3 or not."
   ]
  },
  {
   "cell_type": "code",
   "execution_count": null,
   "id": "00121223-dbc2-4fe6-92c5-48422ea73c04",
   "metadata": {},
   "outputs": [],
   "source": [
    "nums = [1, 2, 3, 4, 5, 6, 7, 8, 9, 10, 11, 12, 13, 14, 15, 16, 17, 18, 19, 20, 21, 22, 23, 24, 25]\n",
    "\n",
    "for num in nums:\n",
    "    if num % 3 == 0:\n",
    "        print(f\"{num} is divisible by 3.\")\n",
    "    else:\n",
    "        print(f\"{num} is not divisible by 3.\")\n"
   ]
  },
  {
   "cell_type": "markdown",
   "id": "bd6acca2-d306-41b4-8e17-69e04888ff08",
   "metadata": {},
   "source": [
    "Q7. What do you understand about mutable and immutable data types? Give examples for both showing\n",
    "this property."
   ]
  },
  {
   "cell_type": "code",
   "execution_count": 1,
   "id": "97dbe3fe-1b51-46e7-86ee-c55baf0c3929",
   "metadata": {},
   "outputs": [
    {
     "name": "stdout",
     "output_type": "stream",
     "text": [
      "[4, 2, 3]\n"
     ]
    },
    {
     "ename": "TypeError",
     "evalue": "'str' object does not support item assignment",
     "output_type": "error",
     "traceback": [
      "\u001b[0;31m---------------------------------------------------------------------------\u001b[0m",
      "\u001b[0;31mTypeError\u001b[0m                                 Traceback (most recent call last)",
      "Cell \u001b[0;32mIn[1], line 13\u001b[0m\n\u001b[1;32m     10\u001b[0m str1 \u001b[38;5;241m=\u001b[39m \u001b[38;5;124m\"\u001b[39m\u001b[38;5;124mHello, world!\u001b[39m\u001b[38;5;124m\"\u001b[39m\n\u001b[1;32m     12\u001b[0m \u001b[38;5;66;03m# Trying to change the value of the first character in the string will raise an error\u001b[39;00m\n\u001b[0;32m---> 13\u001b[0m \u001b[43mstr1\u001b[49m\u001b[43m[\u001b[49m\u001b[38;5;241;43m0\u001b[39;49m\u001b[43m]\u001b[49m \u001b[38;5;241m=\u001b[39m \u001b[38;5;124m\"\u001b[39m\u001b[38;5;124mH\u001b[39m\u001b[38;5;124m\"\u001b[39m\n",
      "\u001b[0;31mTypeError\u001b[0m: 'str' object does not support item assignment"
     ]
    }
   ],
   "source": [
    "# Mutable data type\n",
    "list1 = [1, 2, 3]\n",
    "\n",
    "# Change the value of the first element in the list\n",
    "list1[0] = 4\n",
    "\n",
    "print(list1)    # Output: [4, 2, 3]\n",
    "\n",
    "# Immutable data type\n",
    "str1 = \"Hello, world!\"\n",
    "\n",
    "# Trying to change the value of the first character in the string will raise an error\n",
    "str1[0] = \"H\"\n"
   ]
  },
  {
   "cell_type": "code",
   "execution_count": null,
   "id": "5b4c177f-f96b-4682-8dcc-e9f88ff44b00",
   "metadata": {},
   "outputs": [],
   "source": []
  }
 ],
 "metadata": {
  "kernelspec": {
   "display_name": "Python 3 (ipykernel)",
   "language": "python",
   "name": "python3"
  },
  "language_info": {
   "codemirror_mode": {
    "name": "ipython",
    "version": 3
   },
   "file_extension": ".py",
   "mimetype": "text/x-python",
   "name": "python",
   "nbconvert_exporter": "python",
   "pygments_lexer": "ipython3",
   "version": "3.10.8"
  }
 },
 "nbformat": 4,
 "nbformat_minor": 5
}
