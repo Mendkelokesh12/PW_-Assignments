{
 "cells": [
  {
   "cell_type": "markdown",
   "id": "d7b78af0-4594-487a-871a-d110a763c136",
   "metadata": {},
   "source": [
    "Create a python program to sort the given list of tuples based on integer value using a\n",
    "lambda function.\n",
    "\n",
    "[('Sachin Tendulkar', 34357), ('Ricky Ponting', 27483), ('Jack Kallis', 25534), ('Virat Kohli', 24936)]"
   ]
  },
  {
   "cell_type": "code",
   "execution_count": 8,
   "id": "18fe2637-2347-4f45-b071-e17fa3faec6f",
   "metadata": {},
   "outputs": [
    {
     "name": "stdout",
     "output_type": "stream",
     "text": [
      "The player Virat Kohli scored 24936 runs\n",
      "The player Jack Kallis scored 25534 runs\n",
      "The player Ricky Ponting scored 27483 runs\n",
      "The player Sachin Tendulkar scored 34357 runs\n"
     ]
    }
   ],
   "source": [
    "cricket = [('Sachin Tendulkar', 34357), ('Ricky Ponting', 27483), ('Jack Kallis', 25534), ('Virat Kohli', 24936)]\n",
    "\n",
    "sort = sorted(cricket , key= lambda x: x[1])\n",
    "\n",
    "for  name,runs in sort:\n",
    "    print(\"The player\",name,\"scored\",runs,\"runs\")"
   ]
  },
  {
   "cell_type": "markdown",
   "id": "d97c4278-f5b3-4847-bd97-200ff8eb3d75",
   "metadata": {},
   "source": [
    "Write a Python Program to find the squares of all the numbers in the given list of integers using\n",
    "lambda and map functions.\n",
    "\n",
    "[1, 2, 3, 4, 5, 6, 7, 8, 9, 10]"
   ]
  },
  {
   "cell_type": "code",
   "execution_count": 11,
   "id": "8275f12f-4ad6-48fe-9db5-d89827520b04",
   "metadata": {},
   "outputs": [
    {
     "name": "stdout",
     "output_type": "stream",
     "text": [
      "[1, 4, 9, 16, 25, 36, 49, 64, 81, 100]\n"
     ]
    }
   ],
   "source": [
    "l = [1, 2, 3, 4, 5, 6, 7, 8, 9, 10]\n",
    "list = []\n",
    "for i in l:\n",
    "    i = i**2\n",
    "    list.append(i)\n",
    "print(list)\n",
    "    "
   ]
  },
  {
   "cell_type": "markdown",
   "id": "6744dc18-e772-4d36-afde-ce2bbf6c14c6",
   "metadata": {},
   "source": [
    "Write a python program to convert the given list of integers into a tuple of strings. Use map and\n",
    "lambda functions\n",
    "\n",
    "Given String: [1, 2, 3, 4, 5, 6, 7, 8, 9, 10]\n",
    "\n",
    "Expected output: ('1', '2', '3', '4', '5', '6', '7', '8', '9', '10')"
   ]
  },
  {
   "cell_type": "code",
   "execution_count": 4,
   "id": "b6ba031b-dcb3-4e78-a513-ea9e31175410",
   "metadata": {},
   "outputs": [
    {
     "data": {
      "text/plain": [
       "('1', '2', '3', '4', '5', '6', '7', '8', '9', '10')"
      ]
     },
     "execution_count": 4,
     "metadata": {},
     "output_type": "execute_result"
    }
   ],
   "source": [
    "l = [1,2,3,4,5,6,7,8,9,10]\n",
    "tuple(map(lambda x: str(x),l))"
   ]
  },
  {
   "cell_type": "markdown",
   "id": "035b24ff-58fa-4427-b44c-ca400a2b2832",
   "metadata": {},
   "source": [
    "Write a python program using reduce function to compute the product of a list containing numbers\n",
    "from 1 to 25."
   ]
  },
  {
   "cell_type": "code",
   "execution_count": 12,
   "id": "65175770-5315-481a-9fd2-684072e5de30",
   "metadata": {},
   "outputs": [
    {
     "name": "stdout",
     "output_type": "stream",
     "text": [
      "[1, 2, 3, 4, 5, 6, 7, 8, 9, 10, 11, 12, 13, 14, 15, 16, 17, 18, 19, 20, 21, 22, 23, 24, 25]\n",
      "The product of 1 to 25 {15511210043330985984000000}\n"
     ]
    }
   ],
   "source": [
    "from functools import reduce\n",
    "l=[]\n",
    "for i in range(1,26):\n",
    "    l.append(i)\n",
    "print(l)\n",
    "product = reduce(lambda x,y: x*y,l)\n",
    "print(f\"The product of 1 to 25\",{product})\n"
   ]
  },
  {
   "cell_type": "markdown",
   "id": "f1236f91-c40a-4c73-82fa-517b33e5178d",
   "metadata": {},
   "source": [
    "Write a python program to filter the numbers in a given list that are divisible by 2 and 3 using the\n",
    "filter function.\n",
    "\n",
    "[2, 3, 6, 9, 27, 60, 90, 120, 55, 46]"
   ]
  },
  {
   "cell_type": "code",
   "execution_count": 23,
   "id": "fa25d597-2146-4503-844a-5152eeaa30ad",
   "metadata": {},
   "outputs": [
    {
     "name": "stdout",
     "output_type": "stream",
     "text": [
      "Numbers divisible by 2 and 3: [6, 60, 90, 120]\n"
     ]
    }
   ],
   "source": [
    "l = [2, 3, 6, 9, 27, 60, 90, 120, 55, 46]\n",
    "A = list(filter(lambda x :  x%2==0 and x%3==0 ,l ))\n",
    "print(\"Numbers divisible by 2 and 3:\",A)\n"
   ]
  },
  {
   "cell_type": "markdown",
   "id": "93042bb7-4ad6-453c-bc74-66072cc11615",
   "metadata": {},
   "source": [
    "Write a python program to find palindromes in the given list of strings using lambda and filter\n",
    "function.\n",
    "\n",
    "['python', 'php', 'aba', 'radar', 'level']"
   ]
  },
  {
   "cell_type": "code",
   "execution_count": 26,
   "id": "e4b4949a-f9a7-497d-b2ba-fb0483311798",
   "metadata": {},
   "outputs": [
    {
     "name": "stdout",
     "output_type": "stream",
     "text": [
      "The palidromes string  in the list is : <filter object at 0x7f4095d65000>\n"
     ]
    }
   ],
   "source": [
    "l = ['python', 'php', 'aba', 'radar', 'level']\n",
    "\n",
    "palindromes = (filter(lambda x : x == x[::-1],l))\n",
    "\n",
    "print(\"The palidromes string  in the list is :\",palindromes) "
   ]
  },
  {
   "cell_type": "code",
   "execution_count": null,
   "id": "70e3fcac-1926-40dd-a9bd-aa17bcd4fb5e",
   "metadata": {},
   "outputs": [],
   "source": []
  }
 ],
 "metadata": {
  "kernelspec": {
   "display_name": "Python 3 (ipykernel)",
   "language": "python",
   "name": "python3"
  },
  "language_info": {
   "codemirror_mode": {
    "name": "ipython",
    "version": 3
   },
   "file_extension": ".py",
   "mimetype": "text/x-python",
   "name": "python",
   "nbconvert_exporter": "python",
   "pygments_lexer": "ipython3",
   "version": "3.10.8"
  }
 },
 "nbformat": 4,
 "nbformat_minor": 5
}
