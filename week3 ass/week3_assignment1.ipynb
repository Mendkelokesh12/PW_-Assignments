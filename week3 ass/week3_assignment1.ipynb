{
 "cells": [
  {
   "cell_type": "markdown",
   "id": "eae2e7ef-b000-468e-ad7a-d22d073c94ab",
   "metadata": {},
   "source": [
    "Which keyword is used to create a function? Create a function to return a list of odd numbers in the\n",
    "range of 1 to 25."
   ]
  },
  {
   "cell_type": "code",
   "execution_count": 1,
   "id": "c5a59b25-e0de-4b3c-8f18-3f2cc6056efd",
   "metadata": {},
   "outputs": [
    {
     "name": "stdout",
     "output_type": "stream",
     "text": [
      "'def' key word is use to create a function \n",
      "[1, 3, 5, 7, 9, 11, 13, 15, 17, 19, 21, 23, 25]\n"
     ]
    }
   ],
   "source": [
    "print(\"'def' key word is use to create a function \")\n",
    "\n",
    "def odd_list():\n",
    "    l=[]\n",
    "    for i in range (1,26):\n",
    "        l.append(i)\n",
    "    a = list(filter(lambda i : i%2 != 0,l))\n",
    "    print(a)\n",
    "odd_list()\n"
   ]
  },
  {
   "cell_type": "markdown",
   "id": "3bc059ad-c4e2-4900-83b6-30c8e0dd5866",
   "metadata": {},
   "source": [
    "Why *args and **kwargs is used in some functions? Create a function each for *args and **kwargs\n",
    "to demonstrate their use***\n"
   ]
  },
  {
   "cell_type": "code",
   "execution_count": 2,
   "id": "04de9cd4-0384-485b-b1df-069cb017665f",
   "metadata": {},
   "outputs": [
    {
     "name": "stdout",
     "output_type": "stream",
     "text": [
      "  '*args' is special parameters in Python allow functions to accept a variable number of arguments. \n",
      "*args is used to pass a non-keyworded variable-length argument tuple \n",
      "\n",
      " '**args' is  special parameters in python allow function to accept a varable number of arguments.\n",
      "**args is used to pass a non-keyworded variable-length argument dictionary.\n",
      "\n",
      "Args (2, 3, 7, 'Lokesh')\n",
      "Args {'KTM': 1, 'Honda': 2, 'Hero': 3, 'Yamaha': 4}\n"
     ]
    }
   ],
   "source": [
    "print('''  '*args' is special parameters in Python allow functions to accept a variable number of arguments. \n",
    "*args is used to pass a non-keyworded variable-length argument tuple ''')\n",
    "\n",
    "print('''\\n '**args' is  special parameters in python allow function to accept a varable number of arguments.\n",
    "**args is used to pass a non-keyworded variable-length argument dictionary.''')\n",
    "\n",
    "\n",
    "def fun1(*args):\n",
    "    print('\\nArgs', args)\n",
    "\n",
    "fun1(2,3,7,\"Lokesh\")\n",
    "\n",
    "\n",
    "\n",
    "def fun2(**args):\n",
    "    print('Args', args)\n",
    "    \n",
    "fun2(KTM=1,Honda=2,Hero=3,Yamaha=4)\n",
    "\n"
   ]
  },
  {
   "cell_type": "markdown",
   "id": "824b4794-d81c-4370-a2ca-6efdab024e3f",
   "metadata": {},
   "source": [
    "***What is an iterator in python? Name the method used to initialise the iterator object and the method\n",
    "used for iteration. Use these methods to print the first five elements of the given list [2, 4, 6, 8, 10, 12, 14,16, 18, 20]***\n"
   ]
  },
  {
   "cell_type": "code",
   "execution_count": 3,
   "id": "db4fc4e9-6131-41b6-aeea-314e5c78c5d4",
   "metadata": {},
   "outputs": [
    {
     "name": "stdout",
     "output_type": "stream",
     "text": [
      "An iterator in Python is an object that allows you to iterate over a sequence of elements, one at a time. \n",
      "      It provides a way to access the elements of a sequence without having to store the entire sequence in memory\n",
      "\n",
      " The method used to initialize an iterator object is iter(). This method takes a sequence as an \n",
      "      argument and returns an iterator object that can be used to iterate over the elements of the sequence.  \n",
      "\n",
      " The method used for iteration is next(). This method takes an iterator object as an argument and returns \n",
      "      the next element in the sequence.If there are no more elements in the sequence, it raises a StopIteration exception. \n",
      "2\n",
      "4\n",
      "6\n",
      "8\n",
      "10\n"
     ]
    }
   ],
   "source": [
    "print('''An iterator in Python is an object that allows you to iterate over a sequence of elements, one at a time. \n",
    "      It provides a way to access the elements of a sequence without having to store the entire sequence in memory''')\n",
    "\n",
    "print('''\\n The method used to initialize an iterator object is iter(). This method takes a sequence as an \n",
    "      argument and returns an iterator object that can be used to iterate over the elements of the sequence.  ''' )\n",
    "\n",
    "print('''\\n The method used for iteration is next(). This method takes an iterator object as an argument and returns \n",
    "      the next element in the sequence.If there are no more elements in the sequence, it raises a StopIteration exception. ''')\n",
    "\n",
    "l = [2,4,6,8,10,12,14,16,18,20]\n",
    "a = iter(l)\n",
    "for i in range(5):\n",
    "    e = next(a)\n",
    "    print(e)"
   ]
  },
  {
   "cell_type": "markdown",
   "id": "79987983-3dc8-4cf3-9155-1ce6beba4df9",
   "metadata": {},
   "source": [
    "***What is a generator function in python? Why yield keyword is used? Give an example of a generator\n",
    "function.***\n"
   ]
  },
  {
   "cell_type": "code",
   "execution_count": 4,
   "id": "e4d958be-8a97-4ace-9c4e-743b2d094fab",
   "metadata": {},
   "outputs": [
    {
     "name": "stdout",
     "output_type": "stream",
     "text": [
      " A generator function in Python is a special type of function that doesn't return a single value,\n",
      "      but instead yields a sequence of values. It allows you to create a function that can generate values lazily, \n",
      "      meaning that it only generates the next value when it is requested. This can be useful when you don't want\n",
      "      to generate all of the values at once, or when you want to create an infinite sequence of values.\n",
      "\n",
      " The yield keyword is used in generator functions to specify the values that the function will generate. \n",
      "      When the yield keyword is encountered, the function pauses and returns the specified value. The next time the function is called,\n",
      "      it will resume from the point where it left off and continue to generate values. \n",
      "0\n",
      "1\n",
      "4\n",
      "9\n",
      "16\n",
      "25\n",
      "36\n",
      "49\n",
      "64\n",
      "81\n",
      "100\n",
      "121\n"
     ]
    }
   ],
   "source": [
    "print(''' A generator function in Python is a special type of function that doesn't return a single value,\n",
    "      but instead yields a sequence of values. It allows you to create a function that can generate values lazily, \n",
    "      meaning that it only generates the next value when it is requested. This can be useful when you don't want\n",
    "      to generate all of the values at once, or when you want to create an infinite sequence of values.''' )\n",
    "\n",
    "print('''\\n The yield keyword is used in generator functions to specify the values that the function will generate. \n",
    "      When the yield keyword is encountered, the function pauses and returns the specified value. The next time the function is called,\n",
    "      it will resume from the point where it left off and continue to generate values. ''')\n",
    "\n",
    "def generotr():\n",
    "    for i in range (11+1):\n",
    "        yield i * i\n",
    "a = generotr()\n",
    "\n",
    "for i in a:\n",
    "    print(i)\n",
    "\n"
   ]
  },
  {
   "cell_type": "markdown",
   "id": "2839e380-dc56-4602-a69f-53c0796ec79d",
   "metadata": {},
   "source": [
    "***Create a generator function for prime numbers less than 1000. Use the next() method to print the\n",
    "first 20 prime numbers***\n"
   ]
  },
  {
   "cell_type": "code",
   "execution_count": 5,
   "id": "fd688f36-111a-418f-b349-a56da2242ae3",
   "metadata": {},
   "outputs": [
    {
     "name": "stdout",
     "output_type": "stream",
     "text": [
      "2\n",
      "3\n",
      "5\n",
      "7\n",
      "11\n",
      "13\n",
      "17\n",
      "19\n",
      "23\n",
      "29\n",
      "31\n",
      "37\n",
      "41\n",
      "43\n",
      "47\n",
      "53\n",
      "59\n",
      "61\n",
      "67\n",
      "71\n"
     ]
    }
   ],
   "source": [
    "\n",
    "def is_prime(num):\n",
    "    if num < 2:\n",
    "        return False\n",
    "    for i in range(2, int(num**0.5) + 1):\n",
    "        if num % i == 0:\n",
    "            return False\n",
    "    return True\n",
    "\n",
    "def prime_generator():\n",
    "    num = 2\n",
    "    while num < 1000:\n",
    "        if is_prime(num):\n",
    "            yield num\n",
    "        num += 1\n",
    "\n",
    "# Using the generator to print the first 20 prime numbers\n",
    "prime_gen = prime_generator()\n",
    "\n",
    "for _ in range(20):\n",
    "    print(next(prime_gen))\n"
   ]
  },
  {
   "cell_type": "markdown",
   "id": "e663d9ad-28d0-4e81-91ad-98319d78083e",
   "metadata": {},
   "source": [
    "***Write a python program to print the first 10 Fibonacci numbers using a while loop***\n"
   ]
  },
  {
   "cell_type": "code",
   "execution_count": 6,
   "id": "da753ee5-9db8-4bef-af86-23312d7a4ac1",
   "metadata": {},
   "outputs": [
    {
     "name": "stdin",
     "output_type": "stream",
     "text": [
      "Enter how  many term you want to print: 20\n"
     ]
    },
    {
     "name": "stdout",
     "output_type": "stream",
     "text": [
      "0\n",
      "1\n",
      "1\n",
      "2\n",
      "3\n",
      "5\n",
      "8\n",
      "13\n",
      "21\n",
      "34\n",
      "55\n",
      "89\n",
      "144\n",
      "233\n",
      "377\n",
      "610\n",
      "987\n",
      "1597\n",
      "2584\n",
      "4181\n"
     ]
    }
   ],
   "source": [
    "n=int(input(\"Enter how  many term you want to print:\"))\n",
    "a=0\n",
    "b=1\n",
    "count=0\n",
    "\n",
    "if(n<=0):\n",
    "    print(\"plz type postive number.\")\n",
    "elif(n==1):\n",
    "    print(b)\n",
    "else:\n",
    "    while(count<n):\n",
    "        print(a)\n",
    "        c=a+b\n",
    "        a=b\n",
    "        b=c\n",
    "        count=1+count"
   ]
  },
  {
   "cell_type": "markdown",
   "id": "5d910991-7b0d-4357-a9a7-1f32d7b3f46b",
   "metadata": {},
   "source": [
    "***Write a List Comprehension to iterate through the given string: ‘pwskills’.\n",
    "Expected output: ['p', 'w', 's', 'k', 'i', 'l', 'l', 's']***"
   ]
  },
  {
   "cell_type": "code",
   "execution_count": 22,
   "id": "3b723e7c-2abd-40e7-80f3-b6a8a095b11b",
   "metadata": {},
   "outputs": [
    {
     "name": "stdout",
     "output_type": "stream",
     "text": [
      "['p', 'w', 's', 'k', 'i', 'l', 'l', 's']\n"
     ]
    }
   ],
   "source": [
    "result = [char for char in 'pwskills']\n",
    "print(result)\n",
    "\n",
    "    "
   ]
  },
  {
   "cell_type": "markdown",
   "id": "71ef8d81-df91-4a4b-abeb-dc272e275b29",
   "metadata": {},
   "source": [
    "***Write a python program to check whether a given number is Palindrome or not using a while loop***\n"
   ]
  },
  {
   "cell_type": "code",
   "execution_count": 21,
   "id": "05343c66-d642-4adc-8fab-d9fe8b3d2bbb",
   "metadata": {},
   "outputs": [
    {
     "name": "stdin",
     "output_type": "stream",
     "text": [
      "Enter a number:  770077\n"
     ]
    },
    {
     "name": "stdout",
     "output_type": "stream",
     "text": [
      " is a palindrome number!\n"
     ]
    }
   ],
   "source": [
    "num = int(input(\"Enter a number: \"))\n",
    "\n",
    "reversed_num = 0\n",
    "temp = num\n",
    "\n",
    "while (num > 0):\n",
    "    dig = num % 10\n",
    "    reversed_num = reversed_num * 10 + dig\n",
    "    num = num // 10\n",
    "\n",
    "if (temp == reversed_num):\n",
    "    print(\" it is a palindrome number!\")\n",
    "else:\n",
    "    print(\" it is not a palindrome number.\")\n"
   ]
  },
  {
   "cell_type": "code",
   "execution_count": null,
   "id": "1461fd57-8c15-4d49-a6aa-f7d3c2500f5e",
   "metadata": {},
   "outputs": [],
   "source": []
  }
 ],
 "metadata": {
  "kernelspec": {
   "display_name": "Python 3 (ipykernel)",
   "language": "python",
   "name": "python3"
  },
  "language_info": {
   "codemirror_mode": {
    "name": "ipython",
    "version": 3
   },
   "file_extension": ".py",
   "mimetype": "text/x-python",
   "name": "python",
   "nbconvert_exporter": "python",
   "pygments_lexer": "ipython3",
   "version": "3.10.8"
  }
 },
 "nbformat": 4,
 "nbformat_minor": 5
}
