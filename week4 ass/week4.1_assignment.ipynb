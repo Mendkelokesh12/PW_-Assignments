{
 "cells": [
  {
   "cell_type": "markdown",
   "id": "5db0e626-34d2-48fc-aa60-c191d5559c23",
   "metadata": {},
   "source": [
    "Create a vehicle class with an init method having instance variables as name_of_vehicle, max_speed\n",
    "and average_of_vehicle."
   ]
  },
  {
   "cell_type": "code",
   "execution_count": 11,
   "id": "717dda39-512c-413e-90d6-e21c9b59b7f8",
   "metadata": {},
   "outputs": [
    {
     "data": {
      "text/plain": [
       "('KTM', 200, 40)"
      ]
     },
     "execution_count": 11,
     "metadata": {},
     "output_type": "execute_result"
    }
   ],
   "source": [
    "class vehicle :\n",
    "    def __init__(self,Name_of_vechicle,Max_speed ,Average_of_vehicle):\n",
    "        self.Name = Name_of_vechicle\n",
    "        self.Speed = Max_speed\n",
    "        self.Average = Average_of_vehicle\n",
    "        \n",
    "    def return_vechicle_info(self):\n",
    "        return self.Name,self.Speed,self.Average\n",
    "a = vehicle('KTM',200,40)\n",
    "a.return_vechicle_info()"
   ]
  },
  {
   "cell_type": "markdown",
   "id": "1e6756b9-a620-4553-9c8e-63f321c6f9c8",
   "metadata": {},
   "source": [
    "Create a child class car from the vehicle class created in Que 1, which will inherit the vehicle class.\n",
    "Create a method named seating_capacity which takes capacity as an argument and returns the name of\n",
    "the vehicle and its seating capacity."
   ]
  },
  {
   "cell_type": "code",
   "execution_count": 28,
   "id": "2eef2d74-1fbf-4cfd-8cd4-65c37f24ad6e",
   "metadata": {},
   "outputs": [
    {
     "name": "stdout",
     "output_type": "stream",
     "text": [
      "BMW has a seating capacity of 5 people.\n"
     ]
    }
   ],
   "source": [
    "class Vehicle:\n",
    "    def __init__(self, name_of_vehicle, max_speed, average_of_vehicle):\n",
    "        self.name_of_vehicle = name_of_vehicle\n",
    "        self.max_speed = max_speed\n",
    "        self.average_of_vehicle = average_of_vehicle\n",
    "\n",
    "class Car(Vehicle):\n",
    "    def seating_capacity(self, capacity):\n",
    "        return f\"{self.name_of_vehicle} has a seating capacity of {capacity} people.\"\n",
    "\n",
    "car = Car(name_of_vehicle=\"BMW\", max_speed=180, average_of_vehicle=25)\n",
    "print(car.seating_capacity(5))\n"
   ]
  },
  {
   "cell_type": "markdown",
   "id": "0c011720-3e91-49b4-99bc-a55baecdf391",
   "metadata": {},
   "source": [
    "What is multiple inheritance? Write a python code to demonstrate multiple inheritance."
   ]
  },
  {
   "cell_type": "code",
   "execution_count": 44,
   "id": "536572d8-0d35-4a22-802f-2e796074aa4a",
   "metadata": {},
   "outputs": [
    {
     "name": "stdout",
     "output_type": "stream",
     "text": [
      " Multiple inheritance in Python refers to a situation in which a class can inherit attributes and methods from more than one parent class.\n",
      "This allows a child class to inherit from multiple parent classes, forming a hierarchy of classes.\n",
      "However, it's important to manage multiple inheritance carefully to avoid ambiguity and potential issues known as the \"diamond problem\".\n",
      "\n",
      "Parrot is flying!\n",
      "Parrot is walking!\n"
     ]
    }
   ],
   "source": [
    "print(''' Multiple inheritance in Python refers to a situation in which a class can inherit attributes and methods from more than one parent class.\n",
    "This allows a child class to inherit from multiple parent classes, forming a hierarchy of classes.\n",
    "However, it's important to manage multiple inheritance carefully to avoid ambiguity and potential issues known as the \"diamond problem\".\\n''')\n",
    "\n",
    "class Bird:\n",
    "  def __init__(self, name):\n",
    "    self.name = name\n",
    "\n",
    "  def fly(self):\n",
    "    print(f\"{self.name} is flying!\")\n",
    "\n",
    "class Animal:\n",
    "  def __init__(self, can_walk):\n",
    "    self.can_walk = can_walk\n",
    "\n",
    "  def walk(self):\n",
    "    if self.can_walk:\n",
    "      print(f\"{self.name} is walking!\")\n",
    "    else:\n",
    "      print(f\"{self.name} cannot walk.\")\n",
    "\n",
    "class FlyingAnimal(Bird, Animal):\n",
    "  def __init__(self, name, can_walk):\n",
    "    super().__init__(name)  # call Bird.__init__()\n",
    "    Animal.__init__(self, can_walk)  # call Animal.__init__()\n",
    "\n",
    "# Create an instance of FlyingAnimal\n",
    "parrot = FlyingAnimal(\"Parrot\", True)\n",
    "\n",
    "# Call inherited methods\n",
    "parrot.fly()\n",
    "parrot.walk()\n"
   ]
  },
  {
   "cell_type": "markdown",
   "id": "4b24fdd4-9481-419c-880d-4a9b161f2765",
   "metadata": {},
   "source": [
    "What are getter and setter in python? Create a class and create a getter and a setter method in this\n",
    "class."
   ]
  },
  {
   "cell_type": "code",
   "execution_count": 13,
   "id": "b85482e3-68da-4c95-85b1-b051c7060f98",
   "metadata": {},
   "outputs": [
    {
     "name": "stdout",
     "output_type": "stream",
     "text": [
      "Getters and setters are methods used in object-oriented programming to control access to and modification of an object's attributes. \n",
      "They help achieve data encapsulation, which is a fundamental concept in OOP.\n",
      "Getter: A method that retrieves the current value of an attribute.\n",
      "Setter: A method that sets or modifies the value of an attribute\". \n",
      "\n",
      "Length of Retrangle is  10\n",
      "Width of Retrangle is 8\n",
      "Area of Retrangle is  80\n"
     ]
    }
   ],
   "source": [
    "print('''Getters and setters are methods used in object-oriented programming to control access to and modification of an object's attributes. \n",
    "They help achieve data encapsulation, which is a fundamental concept in OOP.\n",
    "Getter: A method that retrieves the current value of an attribute.\n",
    "Setter: A method that sets or modifies the value of an attribute\". \\n''')\n",
    "\n",
    "class Retrangle:\n",
    "    def __init__(self,length,width):\n",
    "        self.Length = length\n",
    "        self.Width = width\n",
    "        \n",
    "    def get_length(self):\n",
    "        return self.Length\n",
    "    def set_length(self,Length):\n",
    "        if Length > 0:\n",
    "            print(\"Length of Retrangle is smaller than zero it must greater then zero\")\n",
    "        else :\n",
    "            self.Length = Length\n",
    "    \n",
    "    def get_width(self):\n",
    "        return self.Width\n",
    "    def set_width(self,Width):\n",
    "        if Width > 0:\n",
    "            print(\"Length of Retrangle is smaller than zero it must greater then zero\")\n",
    "        else :\n",
    "            self.Width = Width\n",
    "    \n",
    "    def calaculation(self):\n",
    "        return self.Length*self.Width\n",
    "    \n",
    "    \n",
    "rectangle = Retrangle(10,8)\n",
    "print(\"Length of Retrangle is \",rectangle.get_length())\n",
    "print(\"Width of Retrangle is\",rectangle.get_width())\n",
    "print(\"Area of Retrangle is \",rectangle.calaculation())\n",
    "\n"
   ]
  },
  {
   "cell_type": "markdown",
   "id": "b930ef1a-0c91-4e17-9d1d-051df5e12354",
   "metadata": {},
   "source": [
    "What is method overriding in python? Write a python code to demonstrate method overriding."
   ]
  },
  {
   "cell_type": "code",
   "execution_count": 17,
   "id": "47f29702-9d0d-4c85-b015-081fc2ac1249",
   "metadata": {},
   "outputs": [
    {
     "name": "stdout",
     "output_type": "stream",
     "text": [
      "Method overriding in Python occurs when a child class provides a specific implementation for a method that is already defined in its parent class.\n",
      "The overridden method in the child class should have the same name and parameters as the method in the parent class.\n",
      " \n",
      "Animal Speak\n",
      "Dog barks\n",
      "Cat meows\n"
     ]
    }
   ],
   "source": [
    "print('''Method overriding in Python occurs when a child class provides a specific implementation for a method that is already defined in its parent class.\n",
    "The overridden method in the child class should have the same name and parameters as the method in the parent class.\\n ''')\n",
    "\n",
    "class Animal:\n",
    "    def sound(self):\n",
    "        print(\"Animal Speak\")\n",
    "class Dog(Animal):\n",
    "    def sound(self):\n",
    "        print(\"Dog barks\")\n",
    "class Cat(Animal):\n",
    "    def sound(self):\n",
    "        print(\"Cat meows\")\n",
    "animal = Animal()\n",
    "dog = Dog()\n",
    "cat = Cat()\n",
    "\n",
    "animal.sound()  # Output: Animal speaks\n",
    "dog.sound()     # Output: Dog barks (overridden method in Dog class)\n",
    "cat.sound()     # Output: Cat meows (overridden method in Cat class)"
   ]
  },
  {
   "cell_type": "code",
   "execution_count": null,
   "id": "5df21017-9b1d-44fa-8135-477671135579",
   "metadata": {},
   "outputs": [],
   "source": []
  }
 ],
 "metadata": {
  "kernelspec": {
   "display_name": "Python 3 (ipykernel)",
   "language": "python",
   "name": "python3"
  },
  "language_info": {
   "codemirror_mode": {
    "name": "ipython",
    "version": 3
   },
   "file_extension": ".py",
   "mimetype": "text/x-python",
   "name": "python",
   "nbconvert_exporter": "python",
   "pygments_lexer": "ipython3",
   "version": "3.10.8"
  }
 },
 "nbformat": 4,
 "nbformat_minor": 5
}
