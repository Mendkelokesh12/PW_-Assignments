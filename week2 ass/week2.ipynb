{
 "cells": [
  {
   "cell_type": "markdown",
   "id": "02b00161-a6a6-4dad-9b70-f87d3fdf4c20",
   "metadata": {},
   "source": [
    "1] How do you comment code in Python? What are the different types of comments?"
   ]
  },
  {
   "cell_type": "code",
   "execution_count": 7,
   "id": "2a55d9aa-01f4-4d08-90c0-b20df7fa4b53",
   "metadata": {},
   "outputs": [
    {
     "name": "stdout",
     "output_type": "stream",
     "text": [
      "There are two types of comment in python.\n",
      " Single line comment, \n",
      " Multi Line comment.\n"
     ]
    },
    {
     "data": {
      "text/plain": [
       "' This is Multi Line comment \\n It can span multiple lines. '"
      ]
     },
     "execution_count": 7,
     "metadata": {},
     "output_type": "execute_result"
    }
   ],
   "source": [
    "print(\"There are two types of comment in python.\\n Single line comment, \\n Multi Line comment.\")\n",
    "\n",
    "# This is single Line comment.\n",
    "\n",
    "\"\"\" This is Multi Line comment \n",
    " It can span multiple lines. \"\"\""
   ]
  },
  {
   "cell_type": "markdown",
   "id": "9fe7097f-2fd3-4794-9248-5a76f292678f",
   "metadata": {},
   "source": [
    "2] What are variables in Python? How do you declare and assign values to variables?"
   ]
  },
  {
   "cell_type": "code",
   "execution_count": 10,
   "id": "7f4497b2-5740-45a8-b720-f33d4ba14a8c",
   "metadata": {},
   "outputs": [
    {
     "name": "stdout",
     "output_type": "stream",
     "text": [
      "A variable in Python is a symbolic name that is a reference or pointer to an object. \n",
      "Once an object is assigned to a variable, you can refer to the object by that name. \n",
      "But the data itself is still contained within the object.\n",
      "\n",
      " 10\n"
     ]
    }
   ],
   "source": [
    "print('''A variable in Python is a symbolic name that is a reference or pointer to an object. \n",
    "Once an object is assigned to a variable, you can refer to the object by that name. \n",
    "But the data itself is still contained within the object.''')\n",
    "\n",
    "A = 10\n",
    "print(\"\\n\",A) # Here  10 value is assign to  varable \"a\""
   ]
  },
  {
   "cell_type": "markdown",
   "id": "81f8b2b0-a60d-457b-8cb8-99214aa2d5a3",
   "metadata": {},
   "source": [
    "3] How do you convert one data type to another in Python?"
   ]
  },
  {
   "cell_type": "code",
   "execution_count": null,
   "id": "25c8cc2a-4554-4b03-9fc1-d9a31c167e35",
   "metadata": {},
   "outputs": [],
   "source": [
    "a = 30 \n",
    "print(type(a))\n",
    "print(\"Integer Convert to Float\",float(a))\n",
    "l=[22,33.5,\"Lokesh\",55+7j,9]\n",
    "print(type(l))\n",
    "print(\" List Convert to tuple\",tuple(l))\n",
    "print(\"List Convert to set \",set(l))"
   ]
  },
  {
   "cell_type": "markdown",
   "id": "31523d3e-aaeb-4c4c-8035-2ab69043fd15",
   "metadata": {},
   "source": [
    "4] How do you write and execute a Python script from the command line?"
   ]
  },
  {
   "cell_type": "code",
   "execution_count": 18,
   "id": "2902ac61-17e2-4ebd-9aea-811ba97e466f",
   "metadata": {},
   "outputs": [
    {
     "name": "stdout",
     "output_type": "stream",
     "text": [
      "\n",
      "   1] Open a terminal window.\n",
      "    \n",
      "   2]Navigate to the directory where you want to save your Python script.\n",
      "   \n",
      "   3]Create a new file with a .py extension. For example: my_script.py\n",
      "   \n",
      "   4]Open the file in a text editor and write your Python code.\n",
      "   \n",
      "   5]Save the file.\n",
      "   \n",
      "   6]To execute the script, type the following command in the terminal window:\n",
      "    python my_script.py\n",
      "\n",
      "This will run the Python script and print the output to the console.\n"
     ]
    }
   ],
   "source": [
    "print('''\n",
    "   1] Open a terminal window.\n",
    "    \n",
    "   2]Navigate to the directory where you want to save your Python script.\n",
    "   \n",
    "   3]Create a new file with a .py extension. For example: my_script.py\n",
    "   \n",
    "   4]Open the file in a text editor and write your Python code.\n",
    "   \n",
    "   5]Save the file.\n",
    "   \n",
    "   6]To execute the script, type the following command in the terminal window:\n",
    "    python my_script.py\n",
    "\n",
    "This will run the Python script and print the output to the console.''')"
   ]
  },
  {
   "cell_type": "markdown",
   "id": "459729a5-4e79-449f-8982-d55adeca533e",
   "metadata": {},
   "source": [
    "5] Given a list my_list = [1, 2, 3, 4, 5], write the code to slice the list and obtain the sub-list [2, 3]."
   ]
  },
  {
   "cell_type": "code",
   "execution_count": 22,
   "id": "b7943242-299d-49a9-b42b-1ad74819f758",
   "metadata": {},
   "outputs": [
    {
     "name": "stdout",
     "output_type": "stream",
     "text": [
      "my_list: [1, 2, 3, 4, 5]\n",
      "sub_list: [2, 3]\n"
     ]
    }
   ],
   "source": [
    "my_list = [1,2,3,4,5]\n",
    "sub_list = my_list[1:3]\n",
    "print(\"my_list:\",my_list)\n",
    "print(\"sub_list:\",sub_list)"
   ]
  },
  {
   "cell_type": "markdown",
   "id": "aad9a088-cde9-48b2-8363-17674d24d6e8",
   "metadata": {},
   "source": [
    "6] What is a complex number in mathematics, and how is it represented in Python?"
   ]
  },
  {
   "cell_type": "code",
   "execution_count": null,
   "id": "5985fb4a-97a3-4ab5-9e7f-3c8c4ccb1890",
   "metadata": {},
   "outputs": [
    {
     "name": "stdout",
     "output_type": "stream",
     "text": [
      "A complex number is a number of the form z=a+bj, where i is the imaginary unit, defined as j2=−1.\n",
      "Complex numbers can be used to represent and solve a wide variety of mathematical problems, \n",
      "including problems in physics, engineering, and finance.\n",
      "In Python, complex numbers are represented using the complex() function.\n",
      "\n",
      "Real number: 1.0\n",
      "imaginary number: 2.0\n",
      "\n",
      "z1: (1+2j)\n",
      "z2: (3+4j)\n",
      "Sum of z1 an z2 : (4+6j)\n"
     ]
    }
   ],
   "source": [
    "print('''A complex number is a number of the form z=a+bj, where i is the imaginary unit, defined as j2=−1.\n",
    "Complex numbers can be used to represent and solve a wide variety of mathematical problems, \n",
    "including problems in physics, engineering, and finance.''')\n",
    "\n",
    "print(\"In Python, complex numbers are represented using the complex() function.\\n\")\n",
    "z = complex(\"1+2j\")\n",
    "print(\"Real number:\",z.real)  \n",
    "print(\"imaginary number:\",z.imag)  \n",
    "\n",
    "z1 = complex(1, 2)\n",
    "z2 = complex(3, 4)\n",
    "print(\"\\nz1:\",z1)\n",
    "print(\"z2:\",z2)\n",
    "z3 = z1 + z2\n",
    "print(\"Sum of z1 an z2 :\",z3)  "
   ]
  },
  {
   "cell_type": "markdown",
   "id": "f55cecc8-5f2e-4853-9584-eef155a320b9",
   "metadata": {},
   "source": [
    "7] What is the correct way to declare a variable named age and assign the value 25 to it?"
   ]
  },
  {
   "cell_type": "code",
   "execution_count": 1,
   "id": "b23a9ee7-15a9-4576-b4aa-b4c2f95205c1",
   "metadata": {},
   "outputs": [
    {
     "name": "stdout",
     "output_type": "stream",
     "text": [
      "25\n"
     ]
    }
   ],
   "source": [
    "#The correct way to declare a variable named age and assign the value 25 to it in Python is:\n",
    "\n",
    "age = 25\n",
    "print(age)"
   ]
  },
  {
   "cell_type": "markdown",
   "id": "1904393c-597a-456e-a75b-0b95bd3eb37c",
   "metadata": {},
   "source": [
    "8] Declare a variable named price and assign the value 9.99 to it. What data type does this variable\n",
    "belong to?"
   ]
  },
  {
   "cell_type": "code",
   "execution_count": 4,
   "id": "694a1284-b87e-4f82-aef6-5f47404bc1b7",
   "metadata": {},
   "outputs": [
    {
     "name": "stdout",
     "output_type": "stream",
     "text": [
      "Data type of Price is: <class 'float'>\n"
     ]
    }
   ],
   "source": [
    "Price =9.99\n",
    "print(\"Data type of Price is:\",type(Price))"
   ]
  },
  {
   "cell_type": "markdown",
   "id": "dd0a6f3a-b8b6-4c6a-99fa-4daf83266ebe",
   "metadata": {},
   "source": [
    "10] Create a variable named name and assign your full name to it as a string. How would you print the\n",
    "value of this variable?"
   ]
  },
  {
   "cell_type": "code",
   "execution_count": 5,
   "id": "ff642727-1a81-4ac7-8e01-0e7125b4fb36",
   "metadata": {},
   "outputs": [
    {
     "name": "stdout",
     "output_type": "stream",
     "text": [
      "My Name is: Lokesh Mendke\n"
     ]
    }
   ],
   "source": [
    "Name = \"Lokesh Mendke\"\n",
    "print(\"My Name is:\",Name)"
   ]
  },
  {
   "cell_type": "markdown",
   "id": "23c59035-0c40-4714-8f27-92efdf8d5b1f",
   "metadata": {},
   "source": [
    "10] Given the string \"Hello, World!\", extract the substring \"World\"."
   ]
  },
  {
   "cell_type": "code",
   "execution_count": 8,
   "id": "96d1563c-341f-454d-9e1c-ef81df72a4f4",
   "metadata": {},
   "outputs": [
    {
     "name": "stdout",
     "output_type": "stream",
     "text": [
      "String: Hello,World!\n",
      "Substring: World\n"
     ]
    }
   ],
   "source": [
    "S = \"Hello,World!\"\n",
    "print(\"String:\",String)\n",
    "Su = S[6:11]\n",
    "print(\"Substring:\",Su)"
   ]
  },
  {
   "cell_type": "markdown",
   "id": "867c1c9c-dab1-4db8-b36e-17d82c4057ac",
   "metadata": {},
   "source": [
    "11] Create a variable named \"is_student\" and assign it a boolean value indicating whether you are\n",
    "currently a student or not."
   ]
  },
  {
   "cell_type": "code",
   "execution_count": 9,
   "id": "607bc38c-4298-4ca0-afeb-b02b24766a15",
   "metadata": {},
   "outputs": [],
   "source": [
    "is_student = True\n",
    "print(\"Your are a Student \\n\",is_student)"
   ]
  },
  {
   "cell_type": "code",
   "execution_count": null,
   "id": "4c523b1f-794b-44b9-9eb0-620de5b1d374",
   "metadata": {},
   "outputs": [],
   "source": []
  }
 ],
 "metadata": {
  "kernelspec": {
   "display_name": "Python 3 (ipykernel)",
   "language": "python",
   "name": "python3"
  },
  "language_info": {
   "codemirror_mode": {
    "name": "ipython",
    "version": 3
   },
   "file_extension": ".py",
   "mimetype": "text/x-python",
   "name": "python",
   "nbconvert_exporter": "python",
   "pygments_lexer": "ipython3",
   "version": "3.10.8"
  }
 },
 "nbformat": 4,
 "nbformat_minor": 5
}
